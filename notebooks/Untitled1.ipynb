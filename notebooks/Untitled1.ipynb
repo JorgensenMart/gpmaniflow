{
 "cells": [
  {
   "cell_type": "code",
   "execution_count": 1,
   "metadata": {},
   "outputs": [],
   "source": [
    "import numpy as np\n",
    "import numpy.random as rnd\n",
    "import matplotlib.pyplot as plt\n",
    "\n",
    "import tensorflow as tf\n",
    "\n",
    "import gpflow\n",
    "from gpflow.utilities import read_values, multiple_assign, set_trainable\n",
    "from gpflow.inducing_variables import InducingPoints\n",
    "import gpmaniflow\n",
    "from gpmaniflow.models.SVGP import SVGP"
   ]
  },
  {
   "cell_type": "code",
   "execution_count": 2,
   "metadata": {},
   "outputs": [
    {
     "data": {
      "text/plain": [
       "[<matplotlib.lines.Line2D at 0x23eb706d5c0>]"
      ]
     },
     "execution_count": 2,
     "metadata": {},
     "output_type": "execute_result"
    },
    {
     "data": {
      "image/png": "[encoded data removed]",
      "text/plain": [
       "<Figure size 432x288 with 1 Axes>"
      ]
     },
     "metadata": {
      "needs_background": "light"
     },
     "output_type": "display_data"
    }
   ],
   "source": [
    "pX = np.linspace(-5.0, 5.0, 300)[:, None]\n",
    "X = np.random.uniform(-3, 3, 100)[:, None]\n",
    "Y = 3 * X + np.random.randn(*X.shape) * 0.1\n",
    "Z = np.linspace(-5, 5, 50)[:, None]\n",
    "\n",
    "train_dataset = tf.data.Dataset.from_tensor_slices((X, Y))\n",
    "train_dataset = train_dataset.shuffle(1024).batch(len(X))\n",
    "\n",
    "plt.plot(X,Y ,\"x\")"
   ]
  },
  {
   "cell_type": "code",
   "execution_count": 3,
   "metadata": {},
   "outputs": [
    {
     "name": "stdout",
     "output_type": "stream",
     "text": [
      "Step: 0, Mini batch elbo: -1440.789815156586\n",
      "Step: 50, Mini batch elbo: -551.9681832241124\n",
      "Step: 100, Mini batch elbo: -199.10068023603725\n",
      "Step: 150, Mini batch elbo: -157.77935794938983\n",
      "Step: 200, Mini batch elbo: -150.22195943695053\n",
      "Step: 250, Mini batch elbo: -147.06338707928793\n",
      "Step: 300, Mini batch elbo: -144.3345276895277\n",
      "Step: 350, Mini batch elbo: -141.81985968037415\n",
      "Step: 400, Mini batch elbo: -139.27320926495642\n",
      "Step: 450, Mini batch elbo: -136.5910522414063\n",
      "Step: 500, Mini batch elbo: -133.73258105713586\n",
      "Step: 550, Mini batch elbo: -130.7034977560503\n",
      "Step: 600, Mini batch elbo: -127.33284137618385\n",
      "Step: 650, Mini batch elbo: -123.71574732698816\n",
      "Step: 700, Mini batch elbo: -119.80163732586385\n",
      "Step: 750, Mini batch elbo: -115.50889783190507\n",
      "Step: 800, Mini batch elbo: -110.89539325885906\n",
      "Step: 850, Mini batch elbo: -105.90781518729057\n",
      "Step: 900, Mini batch elbo: -100.81363032897794\n",
      "Step: 950, Mini batch elbo: -94.46413215025409\n",
      "Step: 1000, Mini batch elbo: -87.79050531713504\n",
      "Step: 1050, Mini batch elbo: -80.53274678206637\n",
      "Step: 1100, Mini batch elbo: -72.90705664083806\n",
      "Step: 1150, Mini batch elbo: -64.6627353824041\n",
      "Step: 1200, Mini batch elbo: -55.99354508794627\n",
      "Step: 1250, Mini batch elbo: -47.26169329832515\n",
      "Step: 1300, Mini batch elbo: -38.47657661708204\n",
      "Step: 1350, Mini batch elbo: -28.161411073876963\n",
      "Step: 1400, Mini batch elbo: -18.99257987816067\n",
      "Step: 1450, Mini batch elbo: -9.789490670413368\n",
      "Step: 1500, Mini batch elbo: -1.519277367399674\n",
      "Step: 1550, Mini batch elbo: 6.259017268952341\n",
      "Step: 1600, Mini batch elbo: 14.311357188611595\n",
      "Step: 1650, Mini batch elbo: 20.316943706249432\n",
      "Step: 1700, Mini batch elbo: 25.508233711156578\n",
      "Step: 1750, Mini batch elbo: 28.569837656254748\n",
      "Step: 1800, Mini batch elbo: 31.88161907721586\n",
      "Step: 1850, Mini batch elbo: 34.51386007861325\n",
      "Step: 1900, Mini batch elbo: 34.90972926193891\n",
      "Step: 1950, Mini batch elbo: 37.000225737763564\n"
     ]
    }
   ],
   "source": [
    "kernel = gpflow.kernels.SquaredExponential()\n",
    "\n",
    "model = SVGP(kernel, likelihood = gpflow.likelihoods.Gaussian(), inducing_variable=InducingPoints(Z.copy()))\n",
    "\n",
    "train_iter = iter(train_dataset.repeat())\n",
    "training_loss = model.training_loss_closure(train_iter, compile=True)\n",
    "optimizer = tf.keras.optimizers.Adam(0.01)\n",
    "@tf.function\n",
    "def optimization_step():\n",
    "    optimizer.minimize(training_loss, model.trainable_variables)\n",
    "elbo_hist = []\n",
    "for step in range(2000):\n",
    "    optimization_step()\n",
    "    if step % 50 == 0:\n",
    "        minibatch_elbo = -training_loss().numpy()\n",
    "        print('Step: %s, Mini batch elbo: %s' % (step, minibatch_elbo))\n",
    "        elbo_hist.append(minibatch_elbo)\n",
    "\n",
    "ELBO = model.elbo((X,Y))\n"
   ]
  },
  {
   "cell_type": "code",
   "execution_count": 4,
   "metadata": {},
   "outputs": [],
   "source": [
    "import gpmaniflow.samplers\n",
    "from gpmaniflow.samplers import initialize_sampler"
   ]
  },
  {
   "cell_type": "code",
   "execution_count": 5,
   "metadata": {},
   "outputs": [
    {
     "name": "stdout",
     "output_type": "stream",
     "text": [
      "I'm here\n"
     ]
    }
   ],
   "source": [
    "model.MatheronSampler = initialize_sampler()"
   ]
  },
  {
   "cell_type": "code",
   "execution_count": 6,
   "metadata": {},
   "outputs": [
    {
     "name": "stdout",
     "output_type": "stream",
     "text": [
      "I'm here\n"
     ]
    },
    {
     "data": {
      "text/plain": [
       "<tf.Tensor: shape=(1, 300, 1), dtype=float64, numpy=\n",
       "array([[[0.],\n",
       "        [0.],\n",
       "        [0.],\n",
       "        [0.],\n",
       "        [0.],\n",
       "        [0.],\n",
       "        [0.],\n",
       "        [0.],\n",
       "        [0.],\n",
       "        [0.],\n",
       "        [0.],\n",
       "        [0.],\n",
       "        [0.],\n",
       "        [0.],\n",
       "        [0.],\n",
       "        [0.],\n",
       "        [0.],\n",
       "        [0.],\n",
       "        [0.],\n",
       "        [0.],\n",
       "        [0.],\n",
       "        [0.],\n",
       "        [0.],\n",
       "        [0.],\n",
       "        [0.],\n",
       "        [0.],\n",
       "        [0.],\n",
       "        [0.],\n",
       "        [0.],\n",
       "        [0.],\n",
       "        [0.],\n",
       "        [0.],\n",
       "        [0.],\n",
       "        [0.],\n",
       "        [0.],\n",
       "        [0.],\n",
       "        [0.],\n",
       "        [0.],\n",
       "        [0.],\n",
       "        [0.],\n",
       "        [0.],\n",
       "        [0.],\n",
       "        [0.],\n",
       "        [0.],\n",
       "        [0.],\n",
       "        [0.],\n",
       "        [0.],\n",
       "        [0.],\n",
       "        [0.],\n",
       "        [0.],\n",
       "        [0.],\n",
       "        [0.],\n",
       "        [0.],\n",
       "        [0.],\n",
       "        [0.],\n",
       "        [0.],\n",
       "        [0.],\n",
       "        [0.],\n",
       "        [0.],\n",
       "        [0.],\n",
       "        [0.],\n",
       "        [0.],\n",
       "        [0.],\n",
       "        [0.],\n",
       "        [0.],\n",
       "        [0.],\n",
       "        [0.],\n",
       "        [0.],\n",
       "        [0.],\n",
       "        [0.],\n",
       "        [0.],\n",
       "        [0.],\n",
       "        [0.],\n",
       "        [0.],\n",
       "        [0.],\n",
       "        [0.],\n",
       "        [0.],\n",
       "        [0.],\n",
       "        [0.],\n",
       "        [0.],\n",
       "        [0.],\n",
       "        [0.],\n",
       "        [0.],\n",
       "        [0.],\n",
       "        [0.],\n",
       "        [0.],\n",
       "        [0.],\n",
       "        [0.],\n",
       "        [0.],\n",
       "        [0.],\n",
       "        [0.],\n",
       "        [0.],\n",
       "        [0.],\n",
       "        [0.],\n",
       "        [0.],\n",
       "        [0.],\n",
       "        [0.],\n",
       "        [0.],\n",
       "        [0.],\n",
       "        [0.],\n",
       "        [0.],\n",
       "        [0.],\n",
       "        [0.],\n",
       "        [0.],\n",
       "        [0.],\n",
       "        [0.],\n",
       "        [0.],\n",
       "        [0.],\n",
       "        [0.],\n",
       "        [0.],\n",
       "        [0.],\n",
       "        [0.],\n",
       "        [0.],\n",
       "        [0.],\n",
       "        [0.],\n",
       "        [0.],\n",
       "        [0.],\n",
       "        [0.],\n",
       "        [0.],\n",
       "        [0.],\n",
       "        [0.],\n",
       "        [0.],\n",
       "        [0.],\n",
       "        [0.],\n",
       "        [0.],\n",
       "        [0.],\n",
       "        [0.],\n",
       "        [0.],\n",
       "        [0.],\n",
       "        [0.],\n",
       "        [0.],\n",
       "        [0.],\n",
       "        [0.],\n",
       "        [0.],\n",
       "        [0.],\n",
       "        [0.],\n",
       "        [0.],\n",
       "        [0.],\n",
       "        [0.],\n",
       "        [0.],\n",
       "        [0.],\n",
       "        [0.],\n",
       "        [0.],\n",
       "        [0.],\n",
       "        [0.],\n",
       "        [0.],\n",
       "        [0.],\n",
       "        [0.],\n",
       "        [0.],\n",
       "        [0.],\n",
       "        [0.],\n",
       "        [0.],\n",
       "        [0.],\n",
       "        [0.],\n",
       "        [0.],\n",
       "        [0.],\n",
       "        [0.],\n",
       "        [0.],\n",
       "        [0.],\n",
       "        [0.],\n",
       "        [0.],\n",
       "        [0.],\n",
       "        [0.],\n",
       "        [0.],\n",
       "        [0.],\n",
       "        [0.],\n",
       "        [0.],\n",
       "        [0.],\n",
       "        [0.],\n",
       "        [0.],\n",
       "        [0.],\n",
       "        [0.],\n",
       "        [0.],\n",
       "        [0.],\n",
       "        [0.],\n",
       "        [0.],\n",
       "        [0.],\n",
       "        [0.],\n",
       "        [0.],\n",
       "        [0.],\n",
       "        [0.],\n",
       "        [0.],\n",
       "        [0.],\n",
       "        [0.],\n",
       "        [0.],\n",
       "        [0.],\n",
       "        [0.],\n",
       "        [0.],\n",
       "        [0.],\n",
       "        [0.],\n",
       "        [0.],\n",
       "        [0.],\n",
       "        [0.],\n",
       "        [0.],\n",
       "        [0.],\n",
       "        [0.],\n",
       "        [0.],\n",
       "        [0.],\n",
       "        [0.],\n",
       "        [0.],\n",
       "        [0.],\n",
       "        [0.],\n",
       "        [0.],\n",
       "        [0.],\n",
       "        [0.],\n",
       "        [0.],\n",
       "        [0.],\n",
       "        [0.],\n",
       "        [0.],\n",
       "        [0.],\n",
       "        [0.],\n",
       "        [0.],\n",
       "        [0.],\n",
       "        [0.],\n",
       "        [0.],\n",
       "        [0.],\n",
       "        [0.],\n",
       "        [0.],\n",
       "        [0.],\n",
       "        [0.],\n",
       "        [0.],\n",
       "        [0.],\n",
       "        [0.],\n",
       "        [0.],\n",
       "        [0.],\n",
       "        [0.],\n",
       "        [0.],\n",
       "        [0.],\n",
       "        [0.],\n",
       "        [0.],\n",
       "        [0.],\n",
       "        [0.],\n",
       "        [0.],\n",
       "        [0.],\n",
       "        [0.],\n",
       "        [0.],\n",
       "        [0.],\n",
       "        [0.],\n",
       "        [0.],\n",
       "        [0.],\n",
       "        [0.],\n",
       "        [0.],\n",
       "        [0.],\n",
       "        [0.],\n",
       "        [0.],\n",
       "        [0.],\n",
       "        [0.],\n",
       "        [0.],\n",
       "        [0.],\n",
       "        [0.],\n",
       "        [0.],\n",
       "        [0.],\n",
       "        [0.],\n",
       "        [0.],\n",
       "        [0.],\n",
       "        [0.],\n",
       "        [0.],\n",
       "        [0.],\n",
       "        [0.],\n",
       "        [0.],\n",
       "        [0.],\n",
       "        [0.],\n",
       "        [0.],\n",
       "        [0.],\n",
       "        [0.],\n",
       "        [0.],\n",
       "        [0.],\n",
       "        [0.],\n",
       "        [0.],\n",
       "        [0.],\n",
       "        [0.],\n",
       "        [0.],\n",
       "        [0.],\n",
       "        [0.],\n",
       "        [0.],\n",
       "        [0.],\n",
       "        [0.],\n",
       "        [0.],\n",
       "        [0.],\n",
       "        [0.],\n",
       "        [0.],\n",
       "        [0.],\n",
       "        [0.],\n",
       "        [0.],\n",
       "        [0.],\n",
       "        [0.],\n",
       "        [0.],\n",
       "        [0.],\n",
       "        [0.],\n",
       "        [0.],\n",
       "        [0.],\n",
       "        [0.],\n",
       "        [0.],\n",
       "        [0.],\n",
       "        [0.],\n",
       "        [0.],\n",
       "        [0.],\n",
       "        [0.],\n",
       "        [0.],\n",
       "        [0.]]])>"
      ]
     },
     "execution_count": 6,
     "metadata": {},
     "output_type": "execute_result"
    }
   ],
   "source": [
    "out1 = model.MatheronSampler(pX)\n",
    "model.MatheronSampler = initialize_sampler()\n",
    "out2 = model.MatheronSampler(pX)\n",
    "out3 = model.MatheronSampler(pX)\n",
    "out2 - out3"
   ]
  },
  {
   "cell_type": "code",
   "execution_count": 7,
   "metadata": {},
   "outputs": [
    {
     "data": {
      "text/plain": [
       "[<matplotlib.lines.Line2D at 0x23ea397dcc0>]"
      ]
     },
     "execution_count": 7,
     "metadata": {},
     "output_type": "execute_result"
    },
    {
     "data": {
      "image/png": "[encoded data removed]",
      "text/plain": [
       "<Figure size 432x288 with 1 Axes>"
      ]
     },
     "metadata": {
      "needs_background": "light"
     },
     "output_type": "display_data"
    }
   ],
   "source": [
    "plt.plot(pX, out1[0,:,0])\n",
    "plt.plot(pX, out2[0,:,0])"
   ]
  },
  {
   "cell_type": "code",
   "execution_count": 8,
   "metadata": {},
   "outputs": [
    {
     "name": "stdout",
     "output_type": "stream",
     "text": [
      "I'm here\n"
     ]
    }
   ],
   "source": [
    "model.MatheronSampler = initialize_sampler(from_df = True)"
   ]
  },
  {
   "cell_type": "code",
   "execution_count": 9,
   "metadata": {},
   "outputs": [
    {
     "name": "stdout",
     "output_type": "stream",
     "text": [
      "(300, 512)\n",
      "(300, 50)\n"
     ]
    },
    {
     "data": {
      "text/plain": [
       "[<matplotlib.lines.Line2D at 0x23eb736bc88>]"
      ]
     },
     "execution_count": 9,
     "metadata": {},
     "output_type": "execute_result"
    },
    {
     "data": {
      "image/png": "[encoded data removed]",
      "text/plain": [
       "<Figure size 432x288 with 1 Axes>"
      ]
     },
     "metadata": {
      "needs_background": "light"
     },
     "output_type": "display_data"
    }
   ],
   "source": [
    "dout = model.MatheronSampler(pX)\n",
    "plt.plot(pX, dout[0,:,0])"
   ]
  },
  {
   "cell_type": "markdown",
   "metadata": {},
   "source": [
    "# 2-dimensional input"
   ]
  },
  {
   "cell_type": "code",
   "execution_count": 10,
   "metadata": {},
   "outputs": [
    {
     "name": "stdout",
     "output_type": "stream",
     "text": [
      "(200, 1)\n"
     ]
    }
   ],
   "source": [
    "pX = np.reshape(np.random.uniform(-2, 2, 200*2), [200, 2])\n",
    "X = np.random.uniform(-3, 3, 200*2)[:, None]\n",
    "X = np.reshape(X, [200, 2])\n",
    "Y = 2 * X[:,0] + 1 * X[:,1] + np.random.randn(200) * 0.1\n",
    "Y = np.reshape(Y, [200,1])\n",
    "Z = np.random.uniform(-3, 3, 100*2)[:, None]\n",
    "Z = np.reshape(Z, [100, 2])\n",
    "\n",
    "train_dataset = tf.data.Dataset.from_tensor_slices((X, Y))\n",
    "train_dataset = train_dataset.shuffle(1024).batch(len(X))\n",
    "\n",
    "print(Y.shape)\n",
    "#plt.plot(X,Y ,\"x\")"
   ]
  },
  {
   "cell_type": "code",
   "execution_count": 11,
   "metadata": {},
   "outputs": [
    {
     "name": "stdout",
     "output_type": "stream",
     "text": [
      "Step: 0, Mini batch elbo: -1924.8886475061918\n",
      "Step: 50, Mini batch elbo: -872.3805917586285\n",
      "Step: 100, Mini batch elbo: -410.38341384111516\n",
      "Step: 150, Mini batch elbo: -323.2508394483887\n",
      "Step: 200, Mini batch elbo: -306.2302188724704\n",
      "Step: 250, Mini batch elbo: -294.16857244975114\n",
      "Step: 300, Mini batch elbo: -284.12550238625647\n",
      "Step: 350, Mini batch elbo: -274.90314803060477\n",
      "Step: 400, Mini batch elbo: -265.8325568791207\n",
      "Step: 450, Mini batch elbo: -256.5499506154446\n",
      "Step: 500, Mini batch elbo: -246.78440465907573\n",
      "Step: 550, Mini batch elbo: -236.37612767167914\n",
      "Step: 600, Mini batch elbo: -225.04048375958763\n",
      "Step: 650, Mini batch elbo: -212.73437882595334\n",
      "Step: 700, Mini batch elbo: -199.43834549261015\n",
      "Step: 750, Mini batch elbo: -184.26911769901577\n",
      "Step: 800, Mini batch elbo: -167.7006820698443\n",
      "Step: 850, Mini batch elbo: -149.54069601591138\n",
      "Step: 900, Mini batch elbo: -129.75358881568695\n",
      "Step: 950, Mini batch elbo: -108.55754282737227\n",
      "Step: 1000, Mini batch elbo: -86.06608581057455\n",
      "Step: 1050, Mini batch elbo: -62.471720072843645\n",
      "Step: 1100, Mini batch elbo: -38.3929920594363\n",
      "Step: 1150, Mini batch elbo: -14.300152773877002\n",
      "Step: 1200, Mini batch elbo: 8.893180004898312\n",
      "Step: 1250, Mini batch elbo: 31.166048416392684\n",
      "Step: 1300, Mini batch elbo: 50.955883584642635\n",
      "Step: 1350, Mini batch elbo: 68.14560843266133\n",
      "Step: 1400, Mini batch elbo: 81.9687659061846\n",
      "Step: 1450, Mini batch elbo: 92.24101961545318\n",
      "Step: 1500, Mini batch elbo: 99.8217468702099\n",
      "Step: 1550, Mini batch elbo: 105.01675950865986\n",
      "Step: 1600, Mini batch elbo: 108.38048845375383\n",
      "Step: 1650, Mini batch elbo: 110.66790950861305\n",
      "Step: 1700, Mini batch elbo: 111.77549708782415\n",
      "Step: 1750, Mini batch elbo: 112.76482040490232\n",
      "Step: 1800, Mini batch elbo: 113.92588840911196\n",
      "Step: 1850, Mini batch elbo: 113.21076685992506\n",
      "Step: 1900, Mini batch elbo: 114.74045741728565\n",
      "Step: 1950, Mini batch elbo: 115.91111804285165\n",
      "Step: 2000, Mini batch elbo: 116.32259447644688\n",
      "Step: 2050, Mini batch elbo: 116.95717761143848\n",
      "Step: 2100, Mini batch elbo: 117.4029804713904\n",
      "Step: 2150, Mini batch elbo: 117.36369949326222\n",
      "Step: 2200, Mini batch elbo: 118.32992483804746\n",
      "Step: 2250, Mini batch elbo: 118.69616518874915\n",
      "Step: 2300, Mini batch elbo: 118.97434627704048\n",
      "Step: 2350, Mini batch elbo: 119.50068732829465\n",
      "Step: 2400, Mini batch elbo: 117.38284471801589\n",
      "Step: 2450, Mini batch elbo: 120.25764914914075\n",
      "Step: 2500, Mini batch elbo: 119.9484800288392\n",
      "Step: 2550, Mini batch elbo: 120.942840193343\n",
      "Step: 2600, Mini batch elbo: 120.13725137049026\n",
      "Step: 2650, Mini batch elbo: 121.57771521048491\n",
      "Step: 2700, Mini batch elbo: 121.6743183176149\n",
      "Step: 2750, Mini batch elbo: 122.18376976743585\n",
      "Step: 2800, Mini batch elbo: 122.35095657054353\n",
      "Step: 2850, Mini batch elbo: 122.75829464976056\n",
      "Step: 2900, Mini batch elbo: 122.79097446866558\n",
      "Step: 2950, Mini batch elbo: 123.27786134243028\n"
     ]
    }
   ],
   "source": [
    "kernel = gpflow.kernels.SquaredExponential()\n",
    "\n",
    "model = SVGP(kernel, likelihood = gpflow.likelihoods.Gaussian(), inducing_variable=InducingPoints(Z.copy()))\n",
    "\n",
    "train_iter = iter(train_dataset.repeat())\n",
    "training_loss = model.training_loss_closure(train_iter, compile=True)\n",
    "optimizer = tf.keras.optimizers.Adam(0.01)\n",
    "@tf.function\n",
    "def optimization_step():\n",
    "    optimizer.minimize(training_loss, model.trainable_variables)\n",
    "elbo_hist = []\n",
    "for step in range(3000):\n",
    "    optimization_step()\n",
    "    if step % 50 == 0:\n",
    "        minibatch_elbo = -training_loss().numpy()\n",
    "        print('Step: %s, Mini batch elbo: %s' % (step, minibatch_elbo))\n",
    "        elbo_hist.append(minibatch_elbo)\n",
    "\n",
    "ELBO = model.elbo((X,Y))"
   ]
  },
  {
   "cell_type": "code",
   "execution_count": 12,
   "metadata": {},
   "outputs": [
    {
     "name": "stdout",
     "output_type": "stream",
     "text": [
      "I'm here\n"
     ]
    }
   ],
   "source": [
    "model.MatheronSampler = initialize_sampler(from_df = True)"
   ]
  },
  {
   "cell_type": "code",
   "execution_count": 14,
   "metadata": {},
   "outputs": [
    {
     "name": "stdout",
     "output_type": "stream",
     "text": [
      "(400, 512)\n",
      "(400, 100)\n"
     ]
    },
    {
     "data": {
      "text/plain": [
       "[<matplotlib.lines.Line2D at 0x23eba894f98>]"
      ]
     },
     "execution_count": 14,
     "metadata": {},
     "output_type": "execute_result"
    },
    {
     "data": {
      "image/png": "[encoded data removed]",
      "text/plain": [
       "<Figure size 432x288 with 1 Axes>"
      ]
     },
     "metadata": {
      "needs_background": "light"
     },
     "output_type": "display_data"
    }
   ],
   "source": [
    "dout = model.MatheronSampler(pX)\n",
    "dout.shape\n",
    "plt.plot(pX[:,0], dout[0,:,0,0])\n",
    "# Verify results of this matheron"
   ]
  }
 ],
 "metadata": {
  "kernelspec": {
   "display_name": "Python 3",
   "language": "python",
   "name": "python3"
  },
  "language_info": {
   "codemirror_mode": {
    "name": "ipython",
    "version": 3
   },
   "file_extension": ".py",
   "mimetype": "text/x-python",
   "name": "python",
   "nbconvert_exporter": "python",
   "pygments_lexer": "ipython3",
   "version": "3.6.5"
  }
 },
 "nbformat": 4,
 "nbformat_minor": 4
}
