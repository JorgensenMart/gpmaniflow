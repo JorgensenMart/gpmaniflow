{
 "cells": [
  {
   "cell_type": "code",
   "execution_count": 1,
   "id": "d1a7a35d",
   "metadata": {},
   "outputs": [],
   "source": [
    "import numpy as np\n",
    "import pandas\n",
    "\n",
    "from io import BytesIO\n",
    "from urllib.request import urlopen\n",
    "from zipfile import ZipFile\n",
    "\n",
    "import csv"
   ]
  },
  {
   "cell_type": "code",
   "execution_count": 2,
   "id": "ebcf42ca",
   "metadata": {},
   "outputs": [
    {
     "name": "stderr",
     "output_type": "stream",
     "text": [
      "2022-02-15 22:52:41.780406: W tensorflow/stream_executor/platform/default/dso_loader.cc:64] Could not load dynamic library 'libcudart.so.11.0'; dlerror: libcudart.so.11.0: cannot open shared object file: No such file or directory\n",
      "2022-02-15 22:52:41.780430: I tensorflow/stream_executor/cuda/cudart_stub.cc:29] Ignore above cudart dlerror if you do not have a GPU set up on your machine.\n"
     ]
    }
   ],
   "source": [
    "from gpmaniflow.surfaces import BernsteinPolynomial\n",
    "from gpmaniflow.utils import GetAllListPairs\n",
    "import gpflow\n",
    "import tensorflow as tf"
   ]
  },
  {
   "cell_type": "code",
   "execution_count": 3,
   "id": "34c5ff34",
   "metadata": {},
   "outputs": [
    {
     "name": "stdout",
     "output_type": "stream",
     "text": [
      "[[0. ]\n",
      " [0.1]\n",
      " [0.2]\n",
      " [0.3]\n",
      " [0.4]\n",
      " [0.5]\n",
      " [0.6]\n",
      " [0.7]\n",
      " [0.8]\n",
      " [0.9]\n",
      " [1. ]]\n",
      "tf.Tensor(\n",
      "[[1.00000000e+00 0.00000000e+00 0.00000000e+00 0.00000000e+00\n",
      "  0.00000000e+00 0.00000000e+00 0.00000000e+00 0.00000000e+00\n",
      "  0.00000000e+00 0.00000000e+00 0.00000000e+00]\n",
      " [1.21576655e-01 1.50094635e-01 3.75236588e-02 3.29425811e-03\n",
      "  1.24551426e-04 2.21424757e-06 1.89836040e-08 7.65275040e-11\n",
      "  1.32860250e-13 8.10000000e-17 1.00000000e-20]\n",
      " [1.15292150e-02 7.20575940e-02 9.11978925e-02 4.05323966e-02\n",
      "  7.75815405e-03 6.98233864e-04 3.03052892e-05 6.18475291e-07\n",
      "  5.43581798e-09 1.67772160e-11 1.04857600e-14]\n",
      " [7.97922663e-04 1.46557224e-02 5.45103144e-02 7.11971453e-02\n",
      "  4.00483942e-02 1.05923916e-02 1.35107036e-03 8.10304589e-05\n",
      "  2.09294234e-06 1.89836040e-08 3.48678440e-11]\n",
      " [3.65615844e-05 1.62495931e-03 1.46246338e-02 4.62210647e-02\n",
      "  6.29120048e-02 4.02636830e-02 1.24270627e-02 1.80347395e-03\n",
      "  1.12717122e-04 2.47390116e-06 1.09951163e-08]\n",
      " [9.53674316e-07 9.53674316e-05 1.93119049e-03 1.37329102e-02\n",
      "  4.20570374e-02 6.05621338e-02 4.20570374e-02 1.37329102e-02\n",
      "  1.93119049e-03 9.53674316e-05 9.53674316e-07]\n",
      " [1.09951163e-08 2.47390116e-06 1.12717122e-04 1.80347395e-03\n",
      "  1.24270627e-02 4.02636830e-02 6.29120048e-02 4.62210647e-02\n",
      "  1.46246338e-02 1.62495931e-03 3.65615844e-05]\n",
      " [3.48678440e-11 1.89836040e-08 2.09294234e-06 8.10304589e-05\n",
      "  1.35107036e-03 1.05923916e-02 4.00483942e-02 7.11971453e-02\n",
      "  5.45103144e-02 1.46557224e-02 7.97922663e-04]\n",
      " [1.04857600e-14 1.67772160e-11 5.43581798e-09 6.18475291e-07\n",
      "  3.03052892e-05 6.98233864e-04 7.75815405e-03 4.05323966e-02\n",
      "  9.11978925e-02 7.20575940e-02 1.15292150e-02]\n",
      " [1.00000000e-20 8.10000000e-17 1.32860250e-13 7.65275040e-11\n",
      "  1.89836040e-08 2.21424757e-06 1.24551426e-04 3.29425811e-03\n",
      "  3.75236588e-02 1.50094635e-01 1.21576655e-01]\n",
      " [0.00000000e+00 0.00000000e+00 0.00000000e+00 0.00000000e+00\n",
      "  0.00000000e+00 0.00000000e+00 0.00000000e+00 0.00000000e+00\n",
      "  0.00000000e+00 0.00000000e+00 1.00000000e+00]], shape=(11, 11), dtype=float64)\n"
     ]
    },
    {
     "name": "stderr",
     "output_type": "stream",
     "text": [
      "2022-02-15 22:52:43.487964: W tensorflow/stream_executor/platform/default/dso_loader.cc:64] Could not load dynamic library 'libcuda.so.1'; dlerror: libcuda.so.1: cannot open shared object file: No such file or directory\n",
      "2022-02-15 22:52:43.488013: W tensorflow/stream_executor/cuda/cuda_driver.cc:269] failed call to cuInit: UNKNOWN ERROR (303)\n",
      "2022-02-15 22:52:43.488053: I tensorflow/stream_executor/cuda/cuda_diagnostics.cc:156] kernel driver does not appear to be running on this host (martinj): /proc/driver/nvidia/version does not exist\n",
      "2022-02-15 22:52:43.488681: I tensorflow/core/platform/cpu_feature_guard.cc:142] This TensorFlow binary is optimized with oneAPI Deep Neural Network Library (oneDNN) to use the following CPU instructions in performance-critical operations:  AVX2 FMA\n",
      "To enable them in other operations, rebuild TensorFlow with the appropriate compiler flags.\n"
     ]
    }
   ],
   "source": [
    "order = 10\n",
    "X = np.linspace(0.0, 1., order + 1).reshape(order + 1, 1)\n",
    "print(X)\n",
    "B = BernsteinPolynomial(orders = order)\n",
    "BX = B(X) \n",
    "MB = BX ** 2\n",
    "M = tf.squeeze(MB)\n",
    "print(M)"
   ]
  },
  {
   "cell_type": "code",
   "execution_count": 4,
   "id": "2456b255",
   "metadata": {},
   "outputs": [
    {
     "name": "stdout",
     "output_type": "stream",
     "text": [
      "[[1.        ]\n",
      " [2.18291113]\n",
      " [1.94179959]\n",
      " [2.53205321]\n",
      " [2.16801851]\n",
      " [2.61163579]\n",
      " [2.16801851]\n",
      " [2.53205321]\n",
      " [1.94179959]\n",
      " [2.18291113]\n",
      " [1.        ]]\n"
     ]
    }
   ],
   "source": [
    "Minv = np.linalg.inv(M.numpy())\n",
    "P = Minv @ np.array([[1] * (order + 1)]).T\n",
    "print(np.sqrt(P))"
   ]
  },
  {
   "cell_type": "code",
   "execution_count": 5,
   "id": "4d812a81",
   "metadata": {},
   "outputs": [
    {
     "name": "stdout",
     "output_type": "stream",
     "text": [
      "tf.Tensor(\n",
      "[[1.]\n",
      " [1.]\n",
      " [1.]\n",
      " [1.]\n",
      " [1.]\n",
      " [1.]\n",
      " [1.]\n",
      " [1.]\n",
      " [1.]\n",
      " [1.]\n",
      " [1.]], shape=(11, 1), dtype=float64)\n"
     ]
    }
   ],
   "source": [
    "I = GetAllListPairs(order + 1, 1)\n",
    "\n",
    "outB = tf.gather(BX, I, axis = 2)\n",
    "outB = tf.linalg.diag_part(tf.transpose(outB, perm = (0,2,1,3)))\n",
    "outB = tf.reduce_prod(outB, axis = 2)\n",
    "\n",
    "f_var = tf.matmul(outB ** 2, P)\n",
    "print(f_var)"
   ]
  }
 ],
 "metadata": {
  "kernelspec": {
   "display_name": "Python 3 (ipykernel)",
   "language": "python",
   "name": "python3"
  },
  "language_info": {
   "codemirror_mode": {
    "name": "ipython",
    "version": 3
   },
   "file_extension": ".py",
   "mimetype": "text/x-python",
   "name": "python",
   "nbconvert_exporter": "python",
   "pygments_lexer": "ipython3",
   "version": "3.8.10"
  }
 },
 "nbformat": 4,
 "nbformat_minor": 5
}
