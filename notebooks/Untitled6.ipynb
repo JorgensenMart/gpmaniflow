{
 "cells": [
  {
   "cell_type": "code",
   "execution_count": 1,
   "metadata": {},
   "outputs": [],
   "source": [
    "import numpy as np\n",
    "import numpy.random as rnd\n",
    "import matplotlib.pyplot as plt\n",
    "\n",
    "import tensorflow as tf\n",
    "\n",
    "import gpflow\n",
    "from gpflow.utilities import read_values, multiple_assign, set_trainable\n",
    "from gpflow.inducing_variables import InducingPoints\n",
    "import gpmaniflow\n",
    "from gpmaniflow.models.SVGP import SVGP\n",
    "\n",
    "import gpmaniflow.samplers\n",
    "from gpmaniflow.samplers import initialize_sampler\n",
    "from gpmaniflow.curves import BezierCurve"
   ]
  },
  {
   "cell_type": "code",
   "execution_count": 70,
   "metadata": {},
   "outputs": [
    {
     "data": {
      "text/plain": [
       "<tf.Tensor: shape=(6, 3), dtype=float32, numpy=\n",
       "array([[ 0.21203633,  0.26022735,  0.33278173],\n",
       "       [-1.2920737 , -1.0348426 ,  0.9188523 ],\n",
       "       [-0.24700649,  0.4879749 , -0.93327165],\n",
       "       [-0.14512593,  0.18932338, -1.0878857 ],\n",
       "       [-1.4015514 ,  0.43583226, -0.15929765],\n",
       "       [ 0.81644213,  1.115221  ,  0.4739572 ]], dtype=float32)>"
      ]
     },
     "execution_count": 70,
     "metadata": {},
     "output_type": "execute_result"
    }
   ],
   "source": [
    "X = tf.random.normal(shape = [6,3])\n",
    "X"
   ]
  },
  {
   "cell_type": "code",
   "execution_count": 71,
   "metadata": {},
   "outputs": [
    {
     "data": {
      "text/plain": [
       "range(0, 6)"
      ]
     },
     "execution_count": 71,
     "metadata": {},
     "output_type": "execute_result"
    }
   ],
   "source": [
    "I = range(6)\n",
    "I"
   ]
  },
  {
   "cell_type": "code",
   "execution_count": 72,
   "metadata": {},
   "outputs": [
    {
     "data": {
      "text/plain": [
       "<tf.Tensor: shape=(15, 2), dtype=int32, numpy=\n",
       "array([[0, 1],\n",
       "       [0, 2],\n",
       "       [0, 3],\n",
       "       [0, 4],\n",
       "       [0, 5],\n",
       "       [1, 2],\n",
       "       [1, 3],\n",
       "       [1, 4],\n",
       "       [1, 5],\n",
       "       [2, 3],\n",
       "       [2, 4],\n",
       "       [2, 5],\n",
       "       [3, 4],\n",
       "       [3, 5],\n",
       "       [4, 5]])>"
      ]
     },
     "execution_count": 72,
     "metadata": {},
     "output_type": "execute_result"
    }
   ],
   "source": [
    "out1, out2 = tf.meshgrid(I,tf.transpose(I))\n",
    "out = tf.concat([tf.reshape(out2,(-1,1)),tf.reshape(out1,(-1,1))],axis=-1)\n",
    "out = out[out[:,0] < out[:, 1]]\n",
    "out # All pairwise indices"
   ]
  },
  {
   "cell_type": "code",
   "execution_count": 88,
   "metadata": {},
   "outputs": [
    {
     "data": {
      "text/plain": [
       "6"
      ]
     },
     "execution_count": 88,
     "metadata": {},
     "output_type": "execute_result"
    }
   ],
   "source": [
    "res = tf.gather(X, out)\n",
    "res = tf.expand_dims(res, 2)\n",
    "res.shape\n",
    "len(X)"
   ]
  },
  {
   "cell_type": "code",
   "execution_count": 87,
   "metadata": {},
   "outputs": [
    {
     "name": "stdout",
     "output_type": "stream",
     "text": [
      "(6, 6)\n",
      "tf.Tensor(\n",
      "[[0.00000000e+00 4.28303194e+00 1.86548030e+00 2.15088844e+00\n",
      "  2.87664461e+00 1.11625099e+00]\n",
      " [4.28303194e+00 0.00000000e+00 6.84150219e+00 6.84106922e+00\n",
      "  3.33727765e+00 9.26654434e+00]\n",
      " [1.86548030e+00 6.84150219e+00 0.00000000e+00 1.23477936e-01\n",
      "  1.93472874e+00 3.50465369e+00]\n",
      " [2.15088844e+00 6.84106922e+00 1.23477936e-01 2.38418579e-07\n",
      "  2.50164771e+00 4.22125292e+00]\n",
      " [2.87664461e+00 3.33727765e+00 1.93472874e+00 2.50164771e+00\n",
      "  0.00000000e+00 5.78207588e+00]\n",
      " [1.11625099e+00 9.26654434e+00 3.50465369e+00 4.22125292e+00\n",
      "  5.78207588e+00 0.00000000e+00]], shape=(6, 6), dtype=float32)\n"
     ]
    },
    {
     "data": {
      "text/plain": [
       "<tf.Tensor: shape=(15,), dtype=float32, numpy=\n",
       "array([4.283032  , 1.8654803 , 2.1508884 , 2.8766446 , 1.116251  ,\n",
       "       6.841502  , 6.841069  , 3.3372777 , 9.266544  , 0.12347794,\n",
       "       1.9347287 , 3.5046537 , 2.5016477 , 4.221253  , 5.782076  ],\n",
       "      dtype=float32)>"
      ]
     },
     "execution_count": 87,
     "metadata": {},
     "output_type": "execute_result"
    }
   ],
   "source": [
    "from gpflow.utilities.ops import square_distance\n",
    "Y = square_distance(X, X)\n",
    "Y = tf.gather_nd(Y,out)"
   ]
  }
 ],
 "metadata": {
  "kernelspec": {
   "display_name": "Python 3",
   "language": "python",
   "name": "python3"
  },
  "language_info": {
   "codemirror_mode": {
    "name": "ipython",
    "version": 3
   },
   "file_extension": ".py",
   "mimetype": "text/x-python",
   "name": "python",
   "nbconvert_exporter": "python",
   "pygments_lexer": "ipython3",
   "version": "3.6.5"
  }
 },
 "nbformat": 4,
 "nbformat_minor": 4
}
