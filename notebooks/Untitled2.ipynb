{
 "cells": [
  {
   "cell_type": "code",
   "execution_count": 1,
   "metadata": {},
   "outputs": [],
   "source": [
    "import numpy as np\n",
    "import numpy.random as rnd\n",
    "import matplotlib.pyplot as plt\n",
    "\n",
    "import tensorflow as tf\n",
    "\n",
    "import gpflow\n",
    "from gpflow.utilities import read_values, multiple_assign, set_trainable\n",
    "from gpflow.inducing_variables import InducingPoints\n",
    "import gpmaniflow\n",
    "from gpmaniflow.models.SVGP import SVGP\n",
    "\n",
    "import gpmaniflow.samplers\n",
    "from gpmaniflow.samplers import initialize_sampler\n",
    "from gpmaniflow.curves import BezierCurve"
   ]
  },
  {
   "cell_type": "code",
   "execution_count": 2,
   "metadata": {},
   "outputs": [],
   "source": [
    "pX = np.reshape(np.random.uniform(-2, 2, 200*2), [200, 2])\n",
    "X = np.random.uniform(-3, 3, 200*2)[:, None]\n",
    "X = np.reshape(X, [200, 2])\n",
    "Y = 2 * X[:,0] ** 2 + 1 * X[:,1] + np.random.randn(200) * 0.1\n",
    "Y = np.reshape(Y, [200,1])\n",
    "Z = np.random.uniform(-3, 3, 60*2)[:, None]\n",
    "Z = np.reshape(Z, [60, 2])\n",
    "\n",
    "train_dataset = tf.data.Dataset.from_tensor_slices((X, Y))\n",
    "train_dataset = train_dataset.shuffle(1024).batch(len(X))"
   ]
  },
  {
   "cell_type": "code",
   "execution_count": 3,
   "metadata": {},
   "outputs": [
    {
     "name": "stdout",
     "output_type": "stream",
     "text": [
      "[0.         0.02040816 0.04081633 0.06122449 0.08163265 0.10204082\n",
      " 0.12244898 0.14285714 0.16326531 0.18367347 0.20408163 0.2244898\n",
      " 0.24489796 0.26530612 0.28571429 0.30612245 0.32653061 0.34693878\n",
      " 0.36734694 0.3877551  0.40816327 0.42857143 0.44897959 0.46938776\n",
      " 0.48979592 0.51020408 0.53061224 0.55102041 0.57142857 0.59183673\n",
      " 0.6122449  0.63265306 0.65306122 0.67346939 0.69387755 0.71428571\n",
      " 0.73469388 0.75510204 0.7755102  0.79591837 0.81632653 0.83673469\n",
      " 0.85714286 0.87755102 0.89795918 0.91836735 0.93877551 0.95918367\n",
      " 0.97959184 1.        ]\n",
      "tf.Tensor(\n",
      "[[0.         0.        ]\n",
      " [0.02040816 0.02040816]\n",
      " [0.04081633 0.04081633]\n",
      " [0.06122449 0.06122449]\n",
      " [0.08163265 0.08163265]\n",
      " [0.10204082 0.10204082]\n",
      " [0.12244898 0.12244898]\n",
      " [0.14285714 0.14285714]\n",
      " [0.16326531 0.16326531]\n",
      " [0.18367347 0.18367347]\n",
      " [0.20408163 0.20408163]\n",
      " [0.2244898  0.2244898 ]\n",
      " [0.24489796 0.24489796]\n",
      " [0.26530612 0.26530612]\n",
      " [0.28571429 0.28571429]\n",
      " [0.30612245 0.30612245]\n",
      " [0.32653061 0.32653061]\n",
      " [0.34693878 0.34693878]\n",
      " [0.36734694 0.36734694]\n",
      " [0.3877551  0.3877551 ]\n",
      " [0.40816327 0.40816327]\n",
      " [0.42857143 0.42857143]\n",
      " [0.44897959 0.44897959]\n",
      " [0.46938776 0.46938776]\n",
      " [0.48979592 0.48979592]\n",
      " [0.51020408 0.51020408]\n",
      " [0.53061224 0.53061224]\n",
      " [0.55102041 0.55102041]\n",
      " [0.57142857 0.57142857]\n",
      " [0.59183673 0.59183673]\n",
      " [0.6122449  0.6122449 ]\n",
      " [0.63265306 0.63265306]\n",
      " [0.65306122 0.65306122]\n",
      " [0.67346939 0.67346939]\n",
      " [0.69387755 0.69387755]\n",
      " [0.71428571 0.71428571]\n",
      " [0.73469388 0.73469388]\n",
      " [0.75510204 0.75510204]\n",
      " [0.7755102  0.7755102 ]\n",
      " [0.79591837 0.79591837]\n",
      " [0.81632653 0.81632653]\n",
      " [0.83673469 0.83673469]\n",
      " [0.85714286 0.85714286]\n",
      " [0.87755102 0.87755102]\n",
      " [0.89795918 0.89795918]\n",
      " [0.91836735 0.91836735]\n",
      " [0.93877551 0.93877551]\n",
      " [0.95918367 0.95918367]\n",
      " [0.97959184 0.97959184]\n",
      " [1.         1.        ]], shape=(50, 2), dtype=float64)\n"
     ]
    },
    {
     "data": {
      "text/plain": [
       "TensorShape([50, 2])"
      ]
     },
     "execution_count": 3,
     "metadata": {},
     "output_type": "execute_result"
    }
   ],
   "source": [
    "end_points = np.array([[[0,0]],[[1,1]]])\n",
    "end_points.shape\n",
    "\n",
    "c = BezierCurve(end_points)\n",
    "t = np.linspace(0,1, 50)\n",
    "print(t)\n",
    "C = c(t)\n",
    "print(C)\n",
    "C.shape"
   ]
  },
  {
   "cell_type": "code",
   "execution_count": 4,
   "metadata": {},
   "outputs": [
    {
     "name": "stdout",
     "output_type": "stream",
     "text": [
      "Step: 0, Mini batch elbo: -5539.464605420023\n",
      "Step: 50, Mini batch elbo: -3242.7635066771495\n",
      "Step: 100, Mini batch elbo: -1812.3851961458868\n",
      "Step: 150, Mini batch elbo: -1051.216632356912\n",
      "Step: 200, Mini batch elbo: -706.6347370943862\n",
      "Step: 250, Mini batch elbo: -560.3199076546014\n",
      "Step: 300, Mini batch elbo: -500.5387948252319\n",
      "Step: 350, Mini batch elbo: -472.35286330547933\n",
      "Step: 400, Mini batch elbo: -456.57596188310055\n",
      "Step: 450, Mini batch elbo: -445.51865782788116\n",
      "Step: 500, Mini batch elbo: -437.2513331492288\n",
      "Step: 550, Mini batch elbo: -430.73741873463916\n",
      "Step: 600, Mini batch elbo: -425.1170928883988\n",
      "Step: 650, Mini batch elbo: -420.2645716448386\n",
      "Step: 700, Mini batch elbo: -415.85872869213034\n",
      "Step: 750, Mini batch elbo: -411.7423522791935\n",
      "Step: 800, Mini batch elbo: -407.8945767758198\n",
      "Step: 850, Mini batch elbo: -404.24805029710586\n",
      "Step: 900, Mini batch elbo: -400.6320489644879\n",
      "Step: 950, Mini batch elbo: -397.1744746152081\n",
      "Step: 1000, Mini batch elbo: -393.832857672213\n",
      "Step: 1050, Mini batch elbo: -390.30755147738563\n",
      "Step: 1100, Mini batch elbo: -386.9755467114819\n",
      "Step: 1150, Mini batch elbo: -383.55275112236984\n",
      "Step: 1200, Mini batch elbo: -380.55312610277156\n",
      "Step: 1250, Mini batch elbo: -376.72899764330515\n",
      "Step: 1300, Mini batch elbo: -373.25783210660995\n",
      "Step: 1350, Mini batch elbo: -369.71043607491845\n",
      "Step: 1400, Mini batch elbo: -366.15291361469036\n",
      "Step: 1450, Mini batch elbo: -362.8819011273508\n",
      "Step: 1500, Mini batch elbo: -358.6208864977606\n",
      "Step: 1550, Mini batch elbo: -354.6650149428664\n",
      "Step: 1600, Mini batch elbo: -350.6612155092898\n",
      "Step: 1650, Mini batch elbo: -346.4077435539924\n",
      "Step: 1700, Mini batch elbo: -342.0437193009451\n",
      "Step: 1750, Mini batch elbo: -337.4668537925972\n",
      "Step: 1800, Mini batch elbo: -332.74692866217396\n",
      "Step: 1850, Mini batch elbo: -327.8391559102469\n",
      "Step: 1900, Mini batch elbo: -322.58783316923945\n",
      "Step: 1950, Mini batch elbo: -317.03446792293755\n",
      "Step: 2000, Mini batch elbo: -311.2867769361154\n",
      "Step: 2050, Mini batch elbo: -305.1943402685748\n",
      "Step: 2100, Mini batch elbo: -298.87514214355576\n",
      "Step: 2150, Mini batch elbo: -292.19967568388495\n",
      "Step: 2200, Mini batch elbo: -285.0896405620274\n",
      "Step: 2250, Mini batch elbo: -277.68660281087006\n",
      "Step: 2300, Mini batch elbo: -270.0425256566631\n",
      "Step: 2350, Mini batch elbo: -261.74368309914814\n",
      "Step: 2400, Mini batch elbo: -252.55170967986774\n",
      "Step: 2450, Mini batch elbo: -243.51932920647852\n",
      "Step: 2500, Mini batch elbo: -234.70373412011142\n",
      "Step: 2550, Mini batch elbo: -224.43211861100536\n",
      "Step: 2600, Mini batch elbo: -214.776584070335\n",
      "Step: 2650, Mini batch elbo: -205.19459659975715\n",
      "Step: 2700, Mini batch elbo: -193.54937156070645\n",
      "Step: 2750, Mini batch elbo: -183.17869679929188\n",
      "Step: 2800, Mini batch elbo: -172.84840369590574\n",
      "Step: 2850, Mini batch elbo: -161.5908609009136\n",
      "Step: 2900, Mini batch elbo: -151.3241512697367\n",
      "Step: 2950, Mini batch elbo: -141.4772775177044\n"
     ]
    }
   ],
   "source": [
    "kernel = gpflow.kernels.SquaredExponential()\n",
    "\n",
    "model = SVGP(kernel, likelihood = gpflow.likelihoods.Gaussian(), inducing_variable=InducingPoints(Z.copy()))\n",
    "\n",
    "train_iter = iter(train_dataset.repeat())\n",
    "training_loss = model.training_loss_closure(train_iter, compile=True)\n",
    "optimizer = tf.keras.optimizers.Adam(0.01)\n",
    "@tf.function\n",
    "def optimization_step():\n",
    "    optimizer.minimize(training_loss, model.trainable_variables)\n",
    "elbo_hist = []\n",
    "for step in range(3000):\n",
    "    optimization_step()\n",
    "    if step % 50 == 0:\n",
    "        minibatch_elbo = -training_loss().numpy()\n",
    "        print('Step: %s, Mini batch elbo: %s' % (step, minibatch_elbo))\n",
    "        elbo_hist.append(minibatch_elbo)\n",
    "\n",
    "ELBO = model.elbo((X,Y))"
   ]
  },
  {
   "cell_type": "code",
   "execution_count": 9,
   "metadata": {},
   "outputs": [
    {
     "name": "stdout",
     "output_type": "stream",
     "text": [
      "I'm here\n",
      "(60, 60)\n"
     ]
    }
   ],
   "source": [
    "model.MatheronSampler = initialize_sampler(from_df = True)"
   ]
  },
  {
   "cell_type": "code",
   "execution_count": 10,
   "metadata": {},
   "outputs": [
    {
     "name": "stdout",
     "output_type": "stream",
     "text": [
      "(1, 1, 50, 2)\n",
      "(100, 60)\n",
      "tf.Tensor(\n",
      "[[ 4.42994221e-03 -8.12582073e-02 -2.63887412e+00 ... -1.20832905e+00\n",
      "   2.16095293e+00 -1.47078815e+00]\n",
      " [ 2.79324154e-03 -3.27147891e+00 -1.83933217e+00 ...  1.31890885e+00\n",
      "  -1.24870959e+00  7.00799290e-01]\n",
      " [ 4.71057577e-03 -1.15508044e-01 -2.64474158e+00 ... -1.22086458e+00\n",
      "   2.15639982e+00 -1.46488694e+00]\n",
      " ...\n",
      " [ 3.46085219e-02 -2.02105192e+00 -1.48215405e+00 ...  6.17782463e-01\n",
      "  -2.15341562e+00  1.03986189e-01]\n",
      " [ 6.48190342e-02 -7.23748820e-01 -1.75466436e+00 ... -1.35921003e+00\n",
      "   1.26420281e+00 -8.47554849e-01]\n",
      " [ 3.61988973e-02 -1.98465979e+00 -1.45904569e+00 ...  6.02094167e-01\n",
      "  -2.15838818e+00  9.73502332e-02]], shape=(100, 60), dtype=float64)\n",
      "tf.Tensor(\n",
      "[[[[-1.46859052]\n",
      "   [ 4.69295893]\n",
      "   [-1.32141473]\n",
      "   [ 4.68378112]\n",
      "   [-1.17196675]\n",
      "   [ 4.67253601]\n",
      "   [-1.02037137]\n",
      "   [ 4.65923344]\n",
      "   [-0.86675879]\n",
      "   [ 4.64388648]\n",
      "   [-0.71126416]\n",
      "   [ 4.6265116 ]\n",
      "   [-0.55402713]\n",
      "   [ 4.60712875]\n",
      "   [-0.39519131]\n",
      "   [ 4.58576153]\n",
      "   [-0.23490382]\n",
      "   [ 4.56243722]\n",
      "   [-0.07331479]\n",
      "   [ 4.53718692]\n",
      "   [ 0.08942315]\n",
      "   [ 4.51004558]\n",
      "   [ 0.25315541]\n",
      "   [ 4.48105207]\n",
      "   [ 0.41772589]\n",
      "   [ 4.45024922]\n",
      "   [ 0.58297749]\n",
      "   [ 4.41768384]\n",
      "   [ 0.74875267]\n",
      "   [ 4.38340673]\n",
      "   [ 0.91489385]\n",
      "   [ 4.34747265]\n",
      "   [ 1.08124398]\n",
      "   [ 4.3099403 ]\n",
      "   [ 1.24764695]\n",
      "   [ 4.27087228]\n",
      "   [ 1.4139481 ]\n",
      "   [ 4.23033502]\n",
      "   [ 1.57999465]\n",
      "   [ 4.18839866]\n",
      "   [ 1.74563612]\n",
      "   [ 4.145137  ]\n",
      "   [ 1.91072482]\n",
      "   [ 4.10062731]\n",
      "   [ 2.07511614]\n",
      "   [ 4.05495024]\n",
      "   [ 2.23866906]\n",
      "   [ 4.00818965]\n",
      "   [ 2.40124642]\n",
      "   [ 3.96043239]\n",
      "   [ 2.5627153 ]\n",
      "   [ 3.91176815]\n",
      "   [ 2.72294735]\n",
      "   [ 3.86228921]\n",
      "   [ 2.88181906]\n",
      "   [ 3.81209022]\n",
      "   [ 3.03921208]\n",
      "   [ 3.76126796]\n",
      "   [ 3.1950134 ]\n",
      "   [ 3.70992103]\n",
      "   [ 3.34911563]\n",
      "   [ 3.65814965]\n",
      "   [ 3.50141719]\n",
      "   [ 3.60605528]\n",
      "   [ 3.65182246]\n",
      "   [ 3.55374039]\n",
      "   [ 3.80024191]\n",
      "   [ 3.50130808]\n",
      "   [ 3.94659228]\n",
      "   [ 3.44886178]\n",
      "   [ 4.09079659]\n",
      "   [ 3.39650493]\n",
      "   [ 4.23278428]\n",
      "   [ 3.34434058]\n",
      "   [ 4.37249117]\n",
      "   [ 3.29247111]\n",
      "   [ 4.50985952]\n",
      "   [ 3.2409978 ]\n",
      "   [ 4.64483801]\n",
      "   [ 3.19002051]\n",
      "   [ 4.77738166]\n",
      "   [ 3.13963732]\n",
      "   [ 4.90745179]\n",
      "   [ 3.08994413]\n",
      "   [ 5.03501594]\n",
      "   [ 3.04103433]\n",
      "   [ 5.1600477 ]\n",
      "   [ 2.99299839]\n",
      "   [ 5.28252661]\n",
      "   [ 2.94592357]\n",
      "   [ 5.402438  ]\n",
      "   [ 2.89989349]\n",
      "   [ 5.51977278]\n",
      "   [ 2.85498782]\n",
      "   [ 5.63452723]\n",
      "   [ 2.81128195]\n",
      "   [ 5.74670282]\n",
      "   [ 2.76884663]\n",
      "   [ 5.85630592]\n",
      "   [ 2.72774764]]]], shape=(1, 1, 100, 1), dtype=float64)\n",
      "(1, 1, 50, 2)\n"
     ]
    },
    {
     "data": {
      "text/plain": [
       "TensorShape([1, 50, 2, 1])"
      ]
     },
     "execution_count": 10,
     "metadata": {},
     "output_type": "execute_result"
    }
   ],
   "source": [
    "J = model.MatheronSampler(C)\n",
    "J.shape"
   ]
  },
  {
   "cell_type": "code",
   "execution_count": 11,
   "metadata": {},
   "outputs": [
    {
     "data": {
      "text/plain": [
       "[<matplotlib.lines.Line2D at 0x2671a956ef0>]"
      ]
     },
     "execution_count": 11,
     "metadata": {},
     "output_type": "execute_result"
    },
    {
     "data": {
      "image/png": "[encoded data removed]",
      "text/plain": [
       "<Figure size 432x288 with 1 Axes>"
      ]
     },
     "metadata": {
      "needs_background": "light"
     },
     "output_type": "display_data"
    }
   ],
   "source": [
    "#J = tf.reshape(J, [1, 1, 50, 2])\n",
    "plt.plot(t, J[0,:,0,0])"
   ]
  },
  {
   "cell_type": "code",
   "execution_count": 12,
   "metadata": {},
   "outputs": [
    {
     "data": {
      "text/plain": [
       "[<matplotlib.lines.Line2D at 0x2671f985080>]"
      ]
     },
     "execution_count": 12,
     "metadata": {},
     "output_type": "execute_result"
    },
    {
     "data": {
      "image/png": "[encoded data removed]",
      "text/plain": [
       "<Figure size 432x288 with 1 Axes>"
      ]
     },
     "metadata": {
      "needs_background": "light"
     },
     "output_type": "display_data"
    }
   ],
   "source": [
    "plt.plot(t, J[0,:,1,0])"
   ]
  }
 ],
 "metadata": {
  "kernelspec": {
   "display_name": "Python 3",
   "language": "python",
   "name": "python3"
  },
  "language_info": {
   "codemirror_mode": {
    "name": "ipython",
    "version": 3
   },
   "file_extension": ".py",
   "mimetype": "text/x-python",
   "name": "python",
   "nbconvert_exporter": "python",
   "pygments_lexer": "ipython3",
   "version": "3.6.5"
  }
 },
 "nbformat": 4,
 "nbformat_minor": 4
}
