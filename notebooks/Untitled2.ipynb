{
 "cells": [
  {
   "cell_type": "code",
   "execution_count": 1,
   "metadata": {},
   "outputs": [],
   "source": [
    "import numpy as np\n",
    "import numpy.random as rnd\n",
    "import matplotlib.pyplot as plt\n",
    "\n",
    "import tensorflow as tf\n",
    "\n",
    "import gpflow\n",
    "from gpflow.utilities import read_values, multiple_assign, set_trainable\n",
    "from gpflow.inducing_variables import InducingPoints\n",
    "import gpmaniflow\n",
    "from gpmaniflow.models.SVGP import SVGP\n",
    "\n",
    "import gpmaniflow.samplers\n",
    "from gpmaniflow.samplers import initialize_sampler\n",
    "from gpmaniflow.curves import BezierCurve"
   ]
  },
  {
   "cell_type": "code",
   "execution_count": 2,
   "metadata": {},
   "outputs": [],
   "source": [
    "pX = np.reshape(np.random.uniform(-2, 2, 200*2), [200, 2])\n",
    "X = np.random.uniform(-3, 3, 200*2)[:, None]\n",
    "X = np.reshape(X, [200, 2])\n",
    "Y = 2 * X[:,0] ** 2 + 1 * X[:,1] + np.random.randn(200) * 0.1\n",
    "Y = np.reshape(Y, [200,1])\n",
    "Z = np.random.uniform(-3, 3, 60*2)[:, None]\n",
    "Z = np.reshape(Z, [60, 2])\n",
    "\n",
    "train_dataset = tf.data.Dataset.from_tensor_slices((X, Y))\n",
    "train_dataset = train_dataset.shuffle(1024).batch(len(X))"
   ]
  },
  {
   "cell_type": "code",
   "execution_count": 3,
   "metadata": {},
   "outputs": [
    {
     "name": "stdout",
     "output_type": "stream",
     "text": [
      "[0.         0.02040816 0.04081633 0.06122449 0.08163265 0.10204082\n",
      " 0.12244898 0.14285714 0.16326531 0.18367347 0.20408163 0.2244898\n",
      " 0.24489796 0.26530612 0.28571429 0.30612245 0.32653061 0.34693878\n",
      " 0.36734694 0.3877551  0.40816327 0.42857143 0.44897959 0.46938776\n",
      " 0.48979592 0.51020408 0.53061224 0.55102041 0.57142857 0.59183673\n",
      " 0.6122449  0.63265306 0.65306122 0.67346939 0.69387755 0.71428571\n",
      " 0.73469388 0.75510204 0.7755102  0.79591837 0.81632653 0.83673469\n",
      " 0.85714286 0.87755102 0.89795918 0.91836735 0.93877551 0.95918367\n",
      " 0.97959184 1.        ]\n",
      "tf.Tensor(\n",
      "[[0.         0.        ]\n",
      " [0.02040816 0.02040816]\n",
      " [0.04081633 0.04081633]\n",
      " [0.06122449 0.06122449]\n",
      " [0.08163265 0.08163265]\n",
      " [0.10204082 0.10204082]\n",
      " [0.12244898 0.12244898]\n",
      " [0.14285714 0.14285714]\n",
      " [0.16326531 0.16326531]\n",
      " [0.18367347 0.18367347]\n",
      " [0.20408163 0.20408163]\n",
      " [0.2244898  0.2244898 ]\n",
      " [0.24489796 0.24489796]\n",
      " [0.26530612 0.26530612]\n",
      " [0.28571429 0.28571429]\n",
      " [0.30612245 0.30612245]\n",
      " [0.32653061 0.32653061]\n",
      " [0.34693878 0.34693878]\n",
      " [0.36734694 0.36734694]\n",
      " [0.3877551  0.3877551 ]\n",
      " [0.40816327 0.40816327]\n",
      " [0.42857143 0.42857143]\n",
      " [0.44897959 0.44897959]\n",
      " [0.46938776 0.46938776]\n",
      " [0.48979592 0.48979592]\n",
      " [0.51020408 0.51020408]\n",
      " [0.53061224 0.53061224]\n",
      " [0.55102041 0.55102041]\n",
      " [0.57142857 0.57142857]\n",
      " [0.59183673 0.59183673]\n",
      " [0.6122449  0.6122449 ]\n",
      " [0.63265306 0.63265306]\n",
      " [0.65306122 0.65306122]\n",
      " [0.67346939 0.67346939]\n",
      " [0.69387755 0.69387755]\n",
      " [0.71428571 0.71428571]\n",
      " [0.73469388 0.73469388]\n",
      " [0.75510204 0.75510204]\n",
      " [0.7755102  0.7755102 ]\n",
      " [0.79591837 0.79591837]\n",
      " [0.81632653 0.81632653]\n",
      " [0.83673469 0.83673469]\n",
      " [0.85714286 0.85714286]\n",
      " [0.87755102 0.87755102]\n",
      " [0.89795918 0.89795918]\n",
      " [0.91836735 0.91836735]\n",
      " [0.93877551 0.93877551]\n",
      " [0.95918367 0.95918367]\n",
      " [0.97959184 0.97959184]\n",
      " [1.         1.        ]], shape=(50, 2), dtype=float64)\n"
     ]
    },
    {
     "data": {
      "text/plain": [
       "TensorShape([50, 2])"
      ]
     },
     "execution_count": 3,
     "metadata": {},
     "output_type": "execute_result"
    }
   ],
   "source": [
    "end_points = np.array([[[0,0]],[[1,1]]])\n",
    "end_points.shape\n",
    "\n",
    "c = BezierCurve(end_points)\n",
    "t = np.linspace(0,1, 50)\n",
    "print(t)\n",
    "C = c(t)\n",
    "print(C)\n",
    "C.shape"
   ]
  },
  {
   "cell_type": "code",
   "execution_count": 4,
   "metadata": {},
   "outputs": [
    {
     "name": "stdout",
     "output_type": "stream",
     "text": [
      "Step: 0, Mini batch elbo: -7504.697219697572\n",
      "Step: 50, Mini batch elbo: -4485.650101199825\n",
      "Step: 100, Mini batch elbo: -2616.948246722109\n",
      "Step: 150, Mini batch elbo: -1552.9233282033517\n",
      "Step: 200, Mini batch elbo: -1029.6195629978347\n",
      "Step: 250, Mini batch elbo: -775.273302938316\n",
      "Step: 300, Mini batch elbo: -656.7234746668564\n",
      "Step: 350, Mini batch elbo: -593.1527721886926\n",
      "Step: 400, Mini batch elbo: -546.5803669787952\n",
      "Step: 450, Mini batch elbo: -516.6831236300876\n",
      "Step: 500, Mini batch elbo: -496.33343283013664\n",
      "Step: 550, Mini batch elbo: -482.40393011168396\n",
      "Step: 600, Mini batch elbo: -471.9588333829903\n",
      "Step: 650, Mini batch elbo: -463.8970203975657\n",
      "Step: 700, Mini batch elbo: -457.17143944208175\n",
      "Step: 750, Mini batch elbo: -451.55561653458636\n",
      "Step: 800, Mini batch elbo: -446.67338675537434\n",
      "Step: 850, Mini batch elbo: -442.532547072972\n",
      "Step: 900, Mini batch elbo: -438.2624034279709\n",
      "Step: 950, Mini batch elbo: -435.38004368136075\n",
      "Step: 1000, Mini batch elbo: -431.1021418926653\n",
      "Step: 1050, Mini batch elbo: -427.8748687027795\n",
      "Step: 1100, Mini batch elbo: -425.0095976547707\n",
      "Step: 1150, Mini batch elbo: -421.6637391342912\n",
      "Step: 1200, Mini batch elbo: -418.69683771174545\n",
      "Step: 1250, Mini batch elbo: -415.82824579689617\n",
      "Step: 1300, Mini batch elbo: -412.98619259103697\n",
      "Step: 1350, Mini batch elbo: -410.2226523902474\n",
      "Step: 1400, Mini batch elbo: -407.44995369986634\n",
      "Step: 1450, Mini batch elbo: -404.6594555820571\n",
      "Step: 1500, Mini batch elbo: -401.91393872905064\n",
      "Step: 1550, Mini batch elbo: -399.12167862475155\n",
      "Step: 1600, Mini batch elbo: -396.3330247680984\n",
      "Step: 1650, Mini batch elbo: -393.8011701860167\n",
      "Step: 1700, Mini batch elbo: -390.7166670857764\n",
      "Step: 1750, Mini batch elbo: -387.8283132820303\n",
      "Step: 1800, Mini batch elbo: -385.4327125186011\n",
      "Step: 1850, Mini batch elbo: -381.94380856682653\n",
      "Step: 1900, Mini batch elbo: -379.2324794911924\n",
      "Step: 1950, Mini batch elbo: -375.7445807336168\n",
      "Step: 2000, Mini batch elbo: -372.799068197391\n",
      "Step: 2050, Mini batch elbo: -369.6914090657605\n",
      "Step: 2100, Mini batch elbo: -365.9244040263734\n",
      "Step: 2150, Mini batch elbo: -362.34050750755887\n",
      "Step: 2200, Mini batch elbo: -358.65957939047956\n",
      "Step: 2250, Mini batch elbo: -354.81478189217944\n",
      "Step: 2300, Mini batch elbo: -350.8615124276007\n",
      "Step: 2350, Mini batch elbo: -346.7142971040699\n",
      "Step: 2400, Mini batch elbo: -342.62658353622083\n",
      "Step: 2450, Mini batch elbo: -338.337266651211\n",
      "Step: 2500, Mini batch elbo: -333.28234122601157\n",
      "Step: 2550, Mini batch elbo: -328.167104934553\n",
      "Step: 2600, Mini batch elbo: -323.19069845095606\n",
      "Step: 2650, Mini batch elbo: -317.36704261668285\n",
      "Step: 2700, Mini batch elbo: -311.6208136421776\n",
      "Step: 2750, Mini batch elbo: -305.3847495685734\n",
      "Step: 2800, Mini batch elbo: -298.85273080466175\n",
      "Step: 2850, Mini batch elbo: -292.2467700550483\n",
      "Step: 2900, Mini batch elbo: -284.9766648287799\n",
      "Step: 2950, Mini batch elbo: -277.6362395618743\n",
      "Step: 3000, Mini batch elbo: -269.55574896222174\n",
      "Step: 3050, Mini batch elbo: -260.93008733728425\n",
      "Step: 3100, Mini batch elbo: -252.08407742722005\n",
      "Step: 3150, Mini batch elbo: -243.04321916225712\n",
      "Step: 3200, Mini batch elbo: -236.97536603545706\n",
      "Step: 3250, Mini batch elbo: -223.96859351442177\n",
      "Step: 3300, Mini batch elbo: -214.52791739834154\n",
      "Step: 3350, Mini batch elbo: -204.0463576360812\n",
      "Step: 3400, Mini batch elbo: -194.54398452670884\n",
      "Step: 3450, Mini batch elbo: -184.0562572710752\n",
      "Step: 3500, Mini batch elbo: -173.95253577424938\n",
      "Step: 3550, Mini batch elbo: -164.4106661651264\n",
      "Step: 3600, Mini batch elbo: -154.8717377429382\n",
      "Step: 3650, Mini batch elbo: -146.37246671956285\n",
      "Step: 3700, Mini batch elbo: -138.14429664108144\n",
      "Step: 3750, Mini batch elbo: -127.6116441303862\n",
      "Step: 3800, Mini batch elbo: -121.09054181191141\n",
      "Step: 3850, Mini batch elbo: -113.97213487657262\n",
      "Step: 3900, Mini batch elbo: -106.75467828245488\n",
      "Step: 3950, Mini batch elbo: -100.38224965452056\n"
     ]
    }
   ],
   "source": [
    "kernel = gpflow.kernels.SquaredExponential()\n",
    "\n",
    "model = SVGP(kernel, likelihood = gpflow.likelihoods.Gaussian(), inducing_variable=InducingPoints(Z.copy()))\n",
    "\n",
    "train_iter = iter(train_dataset.repeat())\n",
    "training_loss = model.training_loss_closure(train_iter, compile=True)\n",
    "optimizer = tf.keras.optimizers.Adam(0.01)\n",
    "@tf.function\n",
    "def optimization_step():\n",
    "    optimizer.minimize(training_loss, model.trainable_variables)\n",
    "elbo_hist = []\n",
    "for step in range(4000):\n",
    "    optimization_step()\n",
    "    if step % 50 == 0:\n",
    "        minibatch_elbo = -training_loss().numpy()\n",
    "        print('Step: %s, Mini batch elbo: %s' % (step, minibatch_elbo))\n",
    "        elbo_hist.append(minibatch_elbo)\n",
    "\n",
    "ELBO = model.elbo((X,Y))"
   ]
  },
  {
   "cell_type": "code",
   "execution_count": 9,
   "metadata": {},
   "outputs": [
    {
     "name": "stdout",
     "output_type": "stream",
     "text": [
      "I'm here\n"
     ]
    }
   ],
   "source": [
    "model.MatheronSampler = initialize_sampler(from_df = True)"
   ]
  },
  {
   "cell_type": "code",
   "execution_count": 10,
   "metadata": {},
   "outputs": [
    {
     "data": {
      "text/plain": [
       "TensorShape([1, 50, 2, 1])"
      ]
     },
     "execution_count": 10,
     "metadata": {},
     "output_type": "execute_result"
    }
   ],
   "source": [
    "J = model.MatheronSampler(C)\n",
    "J.shape"
   ]
  },
  {
   "cell_type": "code",
   "execution_count": 11,
   "metadata": {},
   "outputs": [
    {
     "data": {
      "text/plain": [
       "[<matplotlib.lines.Line2D at 0x29b4205eef0>]"
      ]
     },
     "execution_count": 11,
     "metadata": {},
     "output_type": "execute_result"
    },
    {
     "data": {
      "image/png": "[encoded data removed]",
      "text/plain": [
       "<Figure size 432x288 with 1 Axes>"
      ]
     },
     "metadata": {
      "needs_background": "light"
     },
     "output_type": "display_data"
    }
   ],
   "source": [
    "#J = tf.reshape(J, [1, 1, 50, 2])\n",
    "plt.plot(t, J[0,:,0,0])"
   ]
  },
  {
   "cell_type": "code",
   "execution_count": 8,
   "metadata": {},
   "outputs": [
    {
     "ename": "InvalidArgumentError",
     "evalue": "slice index 1 of dimension 2 out of bounds. [Op:StridedSlice] name: strided_slice/",
     "output_type": "error",
     "traceback": [
      "\u001b[1;31m---------------------------------------------------------------------------\u001b[0m",
      "\u001b[1;31mInvalidArgumentError\u001b[0m                      Traceback (most recent call last)",
      "\u001b[1;32m<ipython-input-8-540171225d5d>\u001b[0m in \u001b[0;36m<module>\u001b[1;34m\u001b[0m\n\u001b[1;32m----> 1\u001b[1;33m \u001b[0mplt\u001b[0m\u001b[1;33m.\u001b[0m\u001b[0mplot\u001b[0m\u001b[1;33m(\u001b[0m\u001b[0mt\u001b[0m\u001b[1;33m,\u001b[0m \u001b[0mJ\u001b[0m\u001b[1;33m[\u001b[0m\u001b[1;36m0\u001b[0m\u001b[1;33m,\u001b[0m\u001b[1;33m:\u001b[0m\u001b[1;33m,\u001b[0m\u001b[1;36m1\u001b[0m\u001b[1;33m]\u001b[0m\u001b[1;33m)\u001b[0m\u001b[1;33m\u001b[0m\u001b[0m\n\u001b[0m",
      "\u001b[1;32m~\\AppData\\Local\\Continuum\\anaconda3\\lib\\site-packages\\tensorflow\\python\\util\\dispatch.py\u001b[0m in \u001b[0;36mwrapper\u001b[1;34m(*args, **kwargs)\u001b[0m\n\u001b[0;32m    199\u001b[0m     \u001b[1;34m\"\"\"Call target, and fall back on dispatchers if there is a TypeError.\"\"\"\u001b[0m\u001b[1;33m\u001b[0m\u001b[0m\n\u001b[0;32m    200\u001b[0m     \u001b[1;32mtry\u001b[0m\u001b[1;33m:\u001b[0m\u001b[1;33m\u001b[0m\u001b[0m\n\u001b[1;32m--> 201\u001b[1;33m       \u001b[1;32mreturn\u001b[0m \u001b[0mtarget\u001b[0m\u001b[1;33m(\u001b[0m\u001b[1;33m*\u001b[0m\u001b[0margs\u001b[0m\u001b[1;33m,\u001b[0m \u001b[1;33m**\u001b[0m\u001b[0mkwargs\u001b[0m\u001b[1;33m)\u001b[0m\u001b[1;33m\u001b[0m\u001b[0m\n\u001b[0m\u001b[0;32m    202\u001b[0m     \u001b[1;32mexcept\u001b[0m \u001b[1;33m(\u001b[0m\u001b[0mTypeError\u001b[0m\u001b[1;33m,\u001b[0m \u001b[0mValueError\u001b[0m\u001b[1;33m)\u001b[0m\u001b[1;33m:\u001b[0m\u001b[1;33m\u001b[0m\u001b[0m\n\u001b[0;32m    203\u001b[0m       \u001b[1;31m# Note: convert_to_eager_tensor currently raises a ValueError, not a\u001b[0m\u001b[1;33m\u001b[0m\u001b[1;33m\u001b[0m\u001b[0m\n",
      "\u001b[1;32m~\\AppData\\Local\\Continuum\\anaconda3\\lib\\site-packages\\tensorflow\\python\\ops\\array_ops.py\u001b[0m in \u001b[0;36m_slice_helper\u001b[1;34m(tensor, slice_spec, var)\u001b[0m\n\u001b[0;32m   1022\u001b[0m         \u001b[0mellipsis_mask\u001b[0m\u001b[1;33m=\u001b[0m\u001b[0mellipsis_mask\u001b[0m\u001b[1;33m,\u001b[0m\u001b[1;33m\u001b[0m\u001b[0m\n\u001b[0;32m   1023\u001b[0m         \u001b[0mvar\u001b[0m\u001b[1;33m=\u001b[0m\u001b[0mvar\u001b[0m\u001b[1;33m,\u001b[0m\u001b[1;33m\u001b[0m\u001b[0m\n\u001b[1;32m-> 1024\u001b[1;33m         name=name)\n\u001b[0m\u001b[0;32m   1025\u001b[0m \u001b[1;33m\u001b[0m\u001b[0m\n\u001b[0;32m   1026\u001b[0m \u001b[1;33m\u001b[0m\u001b[0m\n",
      "\u001b[1;32m~\\AppData\\Local\\Continuum\\anaconda3\\lib\\site-packages\\tensorflow\\python\\util\\dispatch.py\u001b[0m in \u001b[0;36mwrapper\u001b[1;34m(*args, **kwargs)\u001b[0m\n\u001b[0;32m    199\u001b[0m     \u001b[1;34m\"\"\"Call target, and fall back on dispatchers if there is a TypeError.\"\"\"\u001b[0m\u001b[1;33m\u001b[0m\u001b[0m\n\u001b[0;32m    200\u001b[0m     \u001b[1;32mtry\u001b[0m\u001b[1;33m:\u001b[0m\u001b[1;33m\u001b[0m\u001b[0m\n\u001b[1;32m--> 201\u001b[1;33m       \u001b[1;32mreturn\u001b[0m \u001b[0mtarget\u001b[0m\u001b[1;33m(\u001b[0m\u001b[1;33m*\u001b[0m\u001b[0margs\u001b[0m\u001b[1;33m,\u001b[0m \u001b[1;33m**\u001b[0m\u001b[0mkwargs\u001b[0m\u001b[1;33m)\u001b[0m\u001b[1;33m\u001b[0m\u001b[0m\n\u001b[0m\u001b[0;32m    202\u001b[0m     \u001b[1;32mexcept\u001b[0m \u001b[1;33m(\u001b[0m\u001b[0mTypeError\u001b[0m\u001b[1;33m,\u001b[0m \u001b[0mValueError\u001b[0m\u001b[1;33m)\u001b[0m\u001b[1;33m:\u001b[0m\u001b[1;33m\u001b[0m\u001b[0m\n\u001b[0;32m    203\u001b[0m       \u001b[1;31m# Note: convert_to_eager_tensor currently raises a ValueError, not a\u001b[0m\u001b[1;33m\u001b[0m\u001b[1;33m\u001b[0m\u001b[0m\n",
      "\u001b[1;32m~\\AppData\\Local\\Continuum\\anaconda3\\lib\\site-packages\\tensorflow\\python\\ops\\array_ops.py\u001b[0m in \u001b[0;36mstrided_slice\u001b[1;34m(input_, begin, end, strides, begin_mask, end_mask, ellipsis_mask, new_axis_mask, shrink_axis_mask, var, name)\u001b[0m\n\u001b[0;32m   1194\u001b[0m       \u001b[0mellipsis_mask\u001b[0m\u001b[1;33m=\u001b[0m\u001b[0mellipsis_mask\u001b[0m\u001b[1;33m,\u001b[0m\u001b[1;33m\u001b[0m\u001b[0m\n\u001b[0;32m   1195\u001b[0m       \u001b[0mnew_axis_mask\u001b[0m\u001b[1;33m=\u001b[0m\u001b[0mnew_axis_mask\u001b[0m\u001b[1;33m,\u001b[0m\u001b[1;33m\u001b[0m\u001b[0m\n\u001b[1;32m-> 1196\u001b[1;33m       shrink_axis_mask=shrink_axis_mask)\n\u001b[0m\u001b[0;32m   1197\u001b[0m \u001b[1;33m\u001b[0m\u001b[0m\n\u001b[0;32m   1198\u001b[0m   \u001b[0mparent_name\u001b[0m \u001b[1;33m=\u001b[0m \u001b[0mname\u001b[0m\u001b[1;33m\u001b[0m\u001b[0m\n",
      "\u001b[1;32m~\\AppData\\Local\\Continuum\\anaconda3\\lib\\site-packages\\tensorflow\\python\\ops\\gen_array_ops.py\u001b[0m in \u001b[0;36mstrided_slice\u001b[1;34m(input, begin, end, strides, begin_mask, end_mask, ellipsis_mask, new_axis_mask, shrink_axis_mask, name)\u001b[0m\n\u001b[0;32m  10318\u001b[0m       \u001b[1;32mreturn\u001b[0m \u001b[0m_result\u001b[0m\u001b[1;33m\u001b[0m\u001b[0m\n\u001b[0;32m  10319\u001b[0m     \u001b[1;32mexcept\u001b[0m \u001b[0m_core\u001b[0m\u001b[1;33m.\u001b[0m\u001b[0m_NotOkStatusException\u001b[0m \u001b[1;32mas\u001b[0m \u001b[0me\u001b[0m\u001b[1;33m:\u001b[0m\u001b[1;33m\u001b[0m\u001b[0m\n\u001b[1;32m> 10320\u001b[1;33m       \u001b[0m_ops\u001b[0m\u001b[1;33m.\u001b[0m\u001b[0mraise_from_not_ok_status\u001b[0m\u001b[1;33m(\u001b[0m\u001b[0me\u001b[0m\u001b[1;33m,\u001b[0m \u001b[0mname\u001b[0m\u001b[1;33m)\u001b[0m\u001b[1;33m\u001b[0m\u001b[0m\n\u001b[0m\u001b[0;32m  10321\u001b[0m     \u001b[1;32mexcept\u001b[0m \u001b[0m_core\u001b[0m\u001b[1;33m.\u001b[0m\u001b[0m_FallbackException\u001b[0m\u001b[1;33m:\u001b[0m\u001b[1;33m\u001b[0m\u001b[0m\n\u001b[0;32m  10322\u001b[0m       \u001b[1;32mpass\u001b[0m\u001b[1;33m\u001b[0m\u001b[0m\n",
      "\u001b[1;32m~\\AppData\\Local\\Continuum\\anaconda3\\lib\\site-packages\\tensorflow\\python\\framework\\ops.py\u001b[0m in \u001b[0;36mraise_from_not_ok_status\u001b[1;34m(e, name)\u001b[0m\n\u001b[0;32m   6841\u001b[0m   \u001b[0mmessage\u001b[0m \u001b[1;33m=\u001b[0m \u001b[0me\u001b[0m\u001b[1;33m.\u001b[0m\u001b[0mmessage\u001b[0m \u001b[1;33m+\u001b[0m \u001b[1;33m(\u001b[0m\u001b[1;34m\" name: \"\u001b[0m \u001b[1;33m+\u001b[0m \u001b[0mname\u001b[0m \u001b[1;32mif\u001b[0m \u001b[0mname\u001b[0m \u001b[1;32mis\u001b[0m \u001b[1;32mnot\u001b[0m \u001b[1;32mNone\u001b[0m \u001b[1;32melse\u001b[0m \u001b[1;34m\"\"\u001b[0m\u001b[1;33m)\u001b[0m\u001b[1;33m\u001b[0m\u001b[0m\n\u001b[0;32m   6842\u001b[0m   \u001b[1;31m# pylint: disable=protected-access\u001b[0m\u001b[1;33m\u001b[0m\u001b[1;33m\u001b[0m\u001b[0m\n\u001b[1;32m-> 6843\u001b[1;33m   \u001b[0msix\u001b[0m\u001b[1;33m.\u001b[0m\u001b[0mraise_from\u001b[0m\u001b[1;33m(\u001b[0m\u001b[0mcore\u001b[0m\u001b[1;33m.\u001b[0m\u001b[0m_status_to_exception\u001b[0m\u001b[1;33m(\u001b[0m\u001b[0me\u001b[0m\u001b[1;33m.\u001b[0m\u001b[0mcode\u001b[0m\u001b[1;33m,\u001b[0m \u001b[0mmessage\u001b[0m\u001b[1;33m)\u001b[0m\u001b[1;33m,\u001b[0m \u001b[1;32mNone\u001b[0m\u001b[1;33m)\u001b[0m\u001b[1;33m\u001b[0m\u001b[0m\n\u001b[0m\u001b[0;32m   6844\u001b[0m   \u001b[1;31m# pylint: enable=protected-access\u001b[0m\u001b[1;33m\u001b[0m\u001b[1;33m\u001b[0m\u001b[0m\n\u001b[0;32m   6845\u001b[0m \u001b[1;33m\u001b[0m\u001b[0m\n",
      "\u001b[1;32m~\\AppData\\Local\\Continuum\\anaconda3\\lib\\site-packages\\six.py\u001b[0m in \u001b[0;36mraise_from\u001b[1;34m(value, from_value)\u001b[0m\n",
      "\u001b[1;31mInvalidArgumentError\u001b[0m: slice index 1 of dimension 2 out of bounds. [Op:StridedSlice] name: strided_slice/"
     ]
    }
   ],
   "source": [
    "plt.plot(t, J[0,:,1])"
   ]
  }
 ],
 "metadata": {
  "kernelspec": {
   "display_name": "Python 3",
   "language": "python",
   "name": "python3"
  },
  "language_info": {
   "codemirror_mode": {
    "name": "ipython",
    "version": 3
   },
   "file_extension": ".py",
   "mimetype": "text/x-python",
   "name": "python",
   "nbconvert_exporter": "python",
   "pygments_lexer": "ipython3",
   "version": "3.6.5"
  }
 },
 "nbformat": 4,
 "nbformat_minor": 4
}
