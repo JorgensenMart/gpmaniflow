{
 "cells": [
  {
   "cell_type": "code",
   "execution_count": 1,
   "metadata": {},
   "outputs": [],
   "source": [
    "import numpy as np\n",
    "import numpy.random as rnd\n",
    "import matplotlib.pyplot as plt\n",
    "\n",
    "import tensorflow as tf\n",
    "\n",
    "import gpflow\n",
    "import gpmaniflow\n",
    "from gpmaniflow.models.IsoGPLVM import IsoGPLVM"
   ]
  },
  {
   "cell_type": "code",
   "execution_count": 2,
   "metadata": {},
   "outputs": [
    {
     "name": "stdout",
     "output_type": "stream",
     "text": [
      "Number of points X Number of dimensions (100, 12)\n"
     ]
    },
    {
     "data": {
      "text/plain": [
       "'Bishop, C. M. and G. D. James (1993). Analysis of multiphase flows using dual-energy gamma densitometry and neural networks. Nuclear Instruments and Methods in Physics Research A327, 580-593'"
      ]
     },
     "execution_count": 2,
     "metadata": {},
     "output_type": "execute_result"
    }
   ],
   "source": [
    "gpflow.config.set_default_float(tf.float32)\n",
    "\n",
    "import pods\n",
    "pods.datasets.overide_manual_authorize = True  # dont ask to authorize\n",
    "\n",
    "data = pods.datasets.oil_100()\n",
    "Y = np.float32(data['X'])\n",
    "print('Number of points X Number of dimensions', Y.shape)\n",
    "data['citation']"
   ]
  },
  {
   "cell_type": "code",
   "execution_count": 3,
   "metadata": {},
   "outputs": [
    {
     "data": {
      "text/plain": [
       "[<matplotlib.lines.Line2D at 0x2c19c1bf048>]"
      ]
     },
     "execution_count": 3,
     "metadata": {},
     "output_type": "execute_result"
    },
    {
     "data": {
      "image/png": "[encoded data removed]",
      "text/plain": [
       "<Figure size 432x288 with 1 Axes>"
      ]
     },
     "metadata": {
      "needs_background": "light"
     },
     "output_type": "display_data"
    }
   ],
   "source": [
    "MyIsoGPLVM = IsoGPLVM(data = Y, latent_dim = 2, censoring = 0.5,\n",
    "                     kernel = gpflow.kernels.SquaredExponential(lengthscales = 0.05))\n",
    "plt.plot(MyIsoGPLVM.X_data_mean[:,0],MyIsoGPLVM.X_data_mean[:,1], 'x')"
   ]
  },
  {
   "cell_type": "code",
   "execution_count": 4,
   "metadata": {},
   "outputs": [
    {
     "name": "stdout",
     "output_type": "stream",
     "text": [
      "╒══════════════════════════════╤═══════════╤══════════════════╤═════════╤═════════════╤══════════╤═════════╤════════════════════════════╕\n",
      "│ name                         │ class     │ transform        │ prior   │ trainable   │ shape    │ dtype   │ value                      │\n",
      "╞══════════════════════════════╪═══════════╪══════════════════╪═════════╪═════════════╪══════════╪═════════╪════════════════════════════╡\n",
      "│ IsoGPLVM.X_data_mean         │ Parameter │ Identity         │         │ True        │ (100, 2) │ float32 │ [[-0.5972382, 1.2962812... │\n",
      "│ IsoGPLVM.data[0]             │           │                  │         │             │          │         │                            │\n",
      "├──────────────────────────────┼───────────┼──────────────────┼─────────┼─────────────┼──────────┼─────────┼────────────────────────────┤\n",
      "│ IsoGPLVM.kernel.variance     │ Parameter │ Softplus         │         │ True        │ ()       │ float32 │ 1.0                        │\n",
      "├──────────────────────────────┼───────────┼──────────────────┼─────────┼─────────────┼──────────┼─────────┼────────────────────────────┤\n",
      "│ IsoGPLVM.kernel.lengthscales │ Parameter │ Softplus         │         │ True        │ ()       │ float32 │ 0.049999993                │\n",
      "├──────────────────────────────┼───────────┼──────────────────┼─────────┼─────────────┼──────────┼─────────┼────────────────────────────┤\n",
      "│ IsoGPLVM.likelihood.variance │ Parameter │ Softplus + Shift │         │ True        │ ()       │ float32 │ 0.99999994                 │\n",
      "╘══════════════════════════════╧═══════════╧══════════════════╧═════════╧═════════════╧══════════╧═════════╧════════════════════════════╛\n"
     ]
    }
   ],
   "source": [
    "from gpflow.utilities import print_summary\n",
    "print_summary(MyIsoGPLVM)"
   ]
  },
  {
   "cell_type": "code",
   "execution_count": 5,
   "metadata": {},
   "outputs": [
    {
     "data": {
      "text/html": [
       "&lt;gpmaniflow.likelihoods.scalar_continuous.Nakagami object at 0x000002C188990320&gt;"
      ],
      "text/plain": [
       "<gpmaniflow.likelihoods.scalar_continuous.Nakagami object at 0x000002C188990320>"
      ]
     },
     "execution_count": 5,
     "metadata": {},
     "output_type": "execute_result"
    }
   ],
   "source": [
    "MyIsoGPLVM.iso_likelihood"
   ]
  },
  {
   "cell_type": "code",
   "execution_count": 9,
   "metadata": {},
   "outputs": [
    {
     "name": "stdout",
     "output_type": "stream",
     "text": [
      "Step: 0, LML: -396.00745\n",
      "Step: 1, LML: -312.72305\n",
      "Step: 2, LML: -470.9688\n",
      "Step: 3, LML: 241.56226\n",
      "Step: 4, LML: 123.53798\n",
      "Step: 5, LML: 401.10858\n",
      "Step: 6, LML: 702.24347\n",
      "Step: 7, LML: 226.82358\n",
      "Step: 8, LML: 881.2785\n",
      "Step: 9, LML: 788.01306\n",
      "Step: 10, LML: 813.92035\n",
      "Step: 11, LML: 804.5362\n",
      "Step: 12, LML: 1132.4885\n",
      "Step: 13, LML: 1237.4631\n",
      "Step: 14, LML: 1463.56\n",
      "Step: 15, LML: 1281.5363\n",
      "Step: 16, LML: 1720.2102\n",
      "Step: 17, LML: 1670.507\n",
      "Step: 18, LML: 1531.6824\n",
      "Step: 19, LML: 2073.1729\n",
      "Step: 20, LML: 2139.2576\n",
      "Step: 21, LML: 1999.4639\n",
      "Step: 22, LML: 2178.05\n",
      "Step: 23, LML: 1630.1864\n",
      "Step: 24, LML: 2226.8462\n",
      "Step: 25, LML: 2302.4915\n",
      "Step: 26, LML: 1987.4634\n",
      "Step: 27, LML: 2423.7417\n",
      "Step: 28, LML: 2116.6973\n",
      "Step: 29, LML: 1973.1224\n",
      "Step: 30, LML: 1976.3911\n",
      "Step: 31, LML: 2732.7417\n",
      "Step: 32, LML: 2448.9934\n",
      "Step: 33, LML: 2235.8452\n",
      "Step: 34, LML: 2498.6484\n",
      "Step: 35, LML: 2322.2349\n",
      "Step: 36, LML: 2621.6323\n",
      "Step: 37, LML: 2489.4604\n",
      "Step: 38, LML: 2463.2056\n",
      "Step: 39, LML: 2696.8877\n",
      "Step: 40, LML: 2787.9795\n",
      "Step: 41, LML: 2574.9653\n",
      "Step: 42, LML: 2840.1646\n",
      "Step: 43, LML: 2564.8599\n",
      "Step: 44, LML: 2413.6973\n",
      "Step: 45, LML: 2616.5652\n",
      "Step: 46, LML: 2997.9043\n",
      "Step: 47, LML: 3254.712\n",
      "Step: 48, LML: 3031.9102\n",
      "Step: 49, LML: 3016.0972\n"
     ]
    },
    {
     "data": {
      "text/plain": [
       "<tf.Tensor: shape=(), dtype=float32, numpy=3015.9626>"
      ]
     },
     "execution_count": 9,
     "metadata": {},
     "output_type": "execute_result"
    }
   ],
   "source": [
    "training_loss = MyIsoGPLVM.training_loss_closure(compile=True)\n",
    "optimizer = tf.keras.optimizers.Adam(0.01)\n",
    "@tf.function\n",
    "def optimization_step():\n",
    "    optimizer.minimize(training_loss, MyIsoGPLVM.trainable_variables)\n",
    "lml_hist = []\n",
    "for step in range(50):\n",
    "    optimization_step()\n",
    "    if step % 1 == 0:\n",
    "        minibatch_lml = -training_loss().numpy()\n",
    "        print('Step: %s, LML: %s' % (step, minibatch_lml))\n",
    "        lml_hist.append(minibatch_lml)\n",
    "\n",
    "LML = MyIsoGPLVM.log_marginal_likelihood()\n",
    "LML"
   ]
  },
  {
   "cell_type": "code",
   "execution_count": 10,
   "metadata": {},
   "outputs": [
    {
     "data": {
      "text/plain": [
       "[<matplotlib.lines.Line2D at 0x2c1a4a5b2e8>]"
      ]
     },
     "execution_count": 10,
     "metadata": {},
     "output_type": "execute_result"
    },
    {
     "data": {
      "image/png": "[encoded data removed]",
      "text/plain": [
       "<Figure size 432x288 with 1 Axes>"
      ]
     },
     "metadata": {
      "needs_background": "light"
     },
     "output_type": "display_data"
    }
   ],
   "source": [
    "plt.plot(MyIsoGPLVM.X_data_mean[:,0],MyIsoGPLVM.X_data_mean[:,1], 'x')"
   ]
  }
 ],
 "metadata": {
  "kernelspec": {
   "display_name": "Python 3",
   "language": "python",
   "name": "python3"
  },
  "language_info": {
   "codemirror_mode": {
    "name": "ipython",
    "version": 3
   },
   "file_extension": ".py",
   "mimetype": "text/x-python",
   "name": "python",
   "nbconvert_exporter": "python",
   "pygments_lexer": "ipython3",
   "version": "3.6.5"
  }
 },
 "nbformat": 4,
 "nbformat_minor": 4
}
