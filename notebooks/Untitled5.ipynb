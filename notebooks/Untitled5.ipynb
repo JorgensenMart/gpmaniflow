{
 "cells": [
  {
   "cell_type": "code",
   "execution_count": 2,
   "metadata": {},
   "outputs": [],
   "source": [
    "import numpy as np\n",
    "import numpy.random as rnd\n",
    "import matplotlib.pyplot as plt\n",
    "\n",
    "import tensorflow as tf\n",
    "\n",
    "import gpflow\n",
    "from gpflow.utilities import read_values, multiple_assign, set_trainable\n",
    "from gpflow.inducing_variables import InducingPoints\n",
    "import gpmaniflow\n",
    "from gpmaniflow.models.SVGP import SVGP\n",
    "\n",
    "import gpmaniflow.samplers\n",
    "from gpmaniflow.samplers import initialize_sampler\n",
    "from gpmaniflow.curves import BezierCurve"
   ]
  },
  {
   "cell_type": "code",
   "execution_count": 3,
   "metadata": {},
   "outputs": [
    {
     "name": "stdout",
     "output_type": "stream",
     "text": [
      "[0.         0.11111111 0.22222222 0.33333333 0.44444444 0.55555556\n",
      " 0.66666667 0.77777778 0.88888889 1.        ]\n",
      "tf.Tensor(\n",
      "[[0.         0.        ]\n",
      " [0.11111111 0.11111111]\n",
      " [0.22222222 0.22222222]\n",
      " [0.33333333 0.33333333]\n",
      " [0.44444444 0.44444444]\n",
      " [0.55555556 0.55555556]\n",
      " [0.66666667 0.66666667]\n",
      " [0.77777778 0.77777778]\n",
      " [0.88888889 0.88888889]\n",
      " [1.         1.        ]], shape=(10, 2), dtype=float64)\n"
     ]
    },
    {
     "data": {
      "text/plain": [
       "TensorShape([10, 2])"
      ]
     },
     "execution_count": 3,
     "metadata": {},
     "output_type": "execute_result"
    }
   ],
   "source": [
    "end_points = np.array([[[0,0]],[[1,1]]])\n",
    "end_points.shape\n",
    "\n",
    "c = BezierCurve(end_points, order = 1)\n",
    "t = np.linspace(0,1, 10)\n",
    "print(t)\n",
    "C = c(t)\n",
    "print(C)\n",
    "C.shape"
   ]
  },
  {
   "cell_type": "code",
   "execution_count": 4,
   "metadata": {},
   "outputs": [
    {
     "data": {
      "text/plain": [
       "<tf.Variable 'Variable:0' shape=(0, 1, 2) dtype=float64, numpy=array([], shape=(0, 1, 2), dtype=float64)>"
      ]
     },
     "execution_count": 4,
     "metadata": {},
     "output_type": "execute_result"
    }
   ],
   "source": [
    "c.control_points"
   ]
  },
  {
   "cell_type": "code",
   "execution_count": 5,
   "metadata": {},
   "outputs": [
    {
     "name": "stdout",
     "output_type": "stream",
     "text": [
      "tf.Tensor([[1. 1.]], shape=(1, 2), dtype=float64)\n",
      "tf.Tensor([1.], shape=(1,), dtype=float64)\n"
     ]
    },
    {
     "data": {
      "text/plain": [
       "<tf.Tensor: shape=(10, 2), dtype=float64, numpy=\n",
       "array([[1., 1.],\n",
       "       [1., 1.],\n",
       "       [1., 1.],\n",
       "       [1., 1.],\n",
       "       [1., 1.],\n",
       "       [1., 1.],\n",
       "       [1., 1.],\n",
       "       [1., 1.],\n",
       "       [1., 1.],\n",
       "       [1., 1.]])>"
      ]
     },
     "execution_count": 5,
     "metadata": {},
     "output_type": "execute_result"
    }
   ],
   "source": [
    "dC = c.deriv(t)\n",
    "dC"
   ]
  },
  {
   "cell_type": "code",
   "execution_count": 6,
   "metadata": {},
   "outputs": [
    {
     "data": {
      "text/plain": [
       "<tf.Tensor: shape=(), dtype=float64, numpy=1.4142135623730951>"
      ]
     },
     "execution_count": 6,
     "metadata": {},
     "output_type": "execute_result"
    }
   ],
   "source": [
    "arc_length = tf.reduce_mean(tf.norm(dC, axis = 1))\n",
    "arc_length"
   ]
  }
 ],
 "metadata": {
  "kernelspec": {
   "display_name": "Python 3",
   "language": "python",
   "name": "python3"
  },
  "language_info": {
   "codemirror_mode": {
    "name": "ipython",
    "version": 3
   },
   "file_extension": ".py",
   "mimetype": "text/x-python",
   "name": "python",
   "nbconvert_exporter": "python",
   "pygments_lexer": "ipython3",
   "version": "3.6.5"
  }
 },
 "nbformat": 4,
 "nbformat_minor": 4
}
